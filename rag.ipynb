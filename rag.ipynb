{
 "cells": [
  {
   "cell_type": "markdown",
   "metadata": {},
   "source": [
    "## Env"
   ]
  },
  {
   "cell_type": "code",
   "execution_count": 1,
   "metadata": {},
   "outputs": [],
   "source": [
    "from langchain_community.document_loaders import PyMuPDFLoader, BSHTMLLoader, JSONLoader, UnstructuredMarkdownLoader\n",
    "from langchain_community.document_loaders.csv_loader import CSVLoader\n",
    "from langchain.text_splitter import RecursiveCharacterTextSplitter, CharacterTextSplitter, MarkdownHeaderTextSplitter\n",
    "from langchain.embeddings import HuggingFaceEmbeddings\n",
    "from langchain.vectorstores import Chroma\n",
    "from langchain.callbacks.manager import CallbackManager\n",
    "from langchain.callbacks.streaming_stdout import StreamingStdOutCallbackHandler\n",
    "from langchain_community.llms import LlamaCpp\n",
    "from langchain.chains import LLMChain\n",
    "from langchain.chains.prompt_selector import ConditionalPromptSelector\n",
    "from langchain.prompts import PromptTemplate\n",
    "from langchain.chains import RetrievalQA\n",
    "import torch\n",
    "import os\n",
    "from tqdm import tqdm"
   ]
  },
  {
   "cell_type": "code",
   "execution_count": 2,
   "metadata": {},
   "outputs": [
    {
     "name": "stdout",
     "output_type": "stream",
     "text": [
      "Device:  cuda\n"
     ]
    }
   ],
   "source": [
    "device = 'cuda' if torch.cuda.is_available() else 'cpu'\n",
    "if device == 'cuda':\n",
    "    os.environ[\"CUDA_VISIBLE_DEVICES\"] = \"0\"\n",
    "print('Device: ',device)"
   ]
  },
  {
   "cell_type": "code",
   "execution_count": 9,
   "metadata": {},
   "outputs": [],
   "source": [
    "class RAG_DataLoader:\n",
    "    def __init__(\n",
    "        self,\n",
    "        tokenize_model : str,\n",
    "        chunk_size : int = 100,\n",
    "        chunk_overlap : int = 5,\n",
    "        directory_name : str = 'db',\n",
    "        device : str = 'cpu',\n",
    "    ):\n",
    "        self.embedding = self.__load_model(model_name=tokenize_model,device=device)\n",
    "        self.db = Chroma()\n",
    "        self.persist_directory = directory_name\n",
    "        self.text_splitter = RecursiveCharacterTextSplitter(chunk_size=chunk_size, chunk_overlap=chunk_overlap)\n",
    "        self.files = []\n",
    "        self.all_splits = []\n",
    "        self.vectordb = None\n",
    "    \n",
    "    def add(self,file_name):\n",
    "        self.files.append(file_name)\n",
    "    \n",
    "    def save_vectordb(self):\n",
    "        self.all_splits.clear()\n",
    "        for file in self.files:\n",
    "            file_format = file.split('.')[1]\n",
    "            if file_format == 'pdf': self.all_splits.extend(self._pdf_loader(file))#TODO\n",
    "            elif file_format == 'csv': self.all_splits.extend(self._csv_loader(file))\n",
    "            elif file_format == 'json': self.all_splits.extend(self._json_loader(file))#TODO\n",
    "            elif file_format == 'html': self.all_splts.extend(self._html_loader(file))#TODO\n",
    "            elif file_format == 'markdown': self.all_splits.extend(self._markdown_loader(file))#TODO\n",
    "            else: print(f'Unavailable file format : {file}')\n",
    "        self.vectordb = Chroma.from_documents(documents=self.all_splits, embedding=self.embedding, persist_directory=self.persist_directory)\n",
    "    \n",
    "    def get_vectordb(self):\n",
    "        return self.vectordb\n",
    "    \n",
    "    def _pdf_loader(self,file_path):\n",
    "        data = PyMuPDFLoader(file_path=file_path).load()\n",
    "        splits = self.text_splitter.split_documents(data)\n",
    "        return splits\n",
    "        \n",
    "    def _csv_loader(self, file_path, encoding='utf-8'):\n",
    "        data = CSVLoader(file_path=file_path,encoding=encoding).load()\n",
    "        splits = self.text_splitter.split_documents(data)\n",
    "        return splits\n",
    "    \n",
    "    def _json_loader(self,file_path):\n",
    "        data = JSONLoader(file_path=file_path).load()\n",
    "        splits = self.text_splitter.split_documents(data)\n",
    "        return splits\n",
    "    \n",
    "    def _html_loader(self,file_path):\n",
    "        data = BSHTMLLoader(file_path=file_path).load()\n",
    "        splits = self.text_splitter.split_documents(data)\n",
    "        return splits\n",
    "                \n",
    "    def _markdown_loader(self,file_path):\n",
    "        data = BSHTMLLoader(file_path=file_path, mode='elements').load()\n",
    "        headers_to_split_on = [\n",
    "            ('#','Header 1'),\n",
    "            ('##','Header 2'),\n",
    "        ]\n",
    "        markdown_splitter = MarkdownHeaderTextSplitter(headers_to_split_on=headers_to_split_on)\n",
    "        md_splits = markdown_splitter.split_text(data)\n",
    "        splits = self.text_splitter.split_documents(md_splits)\n",
    "        return splits\n",
    "        \n",
    "    def __load_model(self, model_name, device):\n",
    "        model_kwargs = {'device': device}\n",
    "        return HuggingFaceEmbeddings(model_name=model_name,model_kwargs=model_kwargs)\n",
    "    \n",
    "    def print_all_splits(self):\n",
    "        print('Length:',len(self.all_splits))\n",
    "        print(self.all_splits)\n",
    "    "
   ]
  },
  {
   "cell_type": "code",
   "execution_count": 10,
   "metadata": {},
   "outputs": [
    {
     "name": "stderr",
     "output_type": "stream",
     "text": [
      "/home/beansamuel/anaconda3/envs/test/lib/python3.9/site-packages/huggingface_hub/file_download.py:1132: FutureWarning: `resume_download` is deprecated and will be removed in version 1.0.0. Downloads always resume when possible. If you want to force a new download, use `force_download=True`.\n",
      "  warnings.warn(\n"
     ]
    }
   ],
   "source": [
    "dataloader = RAG_DataLoader(\n",
    "    tokenize_model = 'sentence-transformers/all-MiniLM-L6-v2',\n",
    "    chunk_size = 500,\n",
    "    chunk_overlap = 5,\n",
    "    directory_name = 'db',\n",
    "    device = device,\n",
    ")"
   ]
  },
  {
   "cell_type": "code",
   "execution_count": 11,
   "metadata": {},
   "outputs": [],
   "source": [
    "dataloader.add('data/arxiv_finance/0704.1711.pdf')\n",
    "dataloader.add('data/arxiv_finance/2404.03420.pdf')\n",
    "# folder_path = 'data/arxiv_finance'\n",
    "\n",
    "# for item in os.listdir(folder_path):\n",
    "#     if not item.endswith('.pdf'): continue\n",
    "#     print(os.path.join(folder_path,item))\n",
    "#     dataloader.add(os.path.join(folder_path,item))"
   ]
  },
  {
   "cell_type": "code",
   "execution_count": 12,
   "metadata": {},
   "outputs": [
    {
     "name": "stdout",
     "output_type": "stream",
     "text": [
      "Unavailable file format : data/arxiv_finance/0704.1711.pdf\n",
      "Unavailable file format : data/arxiv_finance/2404.03420.pdf\n"
     ]
    },
    {
     "ename": "ValueError",
     "evalue": "Expected IDs to be a non-empty list, got 0 IDs",
     "output_type": "error",
     "traceback": [
      "\u001b[0;31m---------------------------------------------------------------------------\u001b[0m",
      "\u001b[0;31mValueError\u001b[0m                                Traceback (most recent call last)",
      "Cell \u001b[0;32mIn[12], line 1\u001b[0m\n\u001b[0;32m----> 1\u001b[0m \u001b[43mdataloader\u001b[49m\u001b[38;5;241;43m.\u001b[39;49m\u001b[43msave_vectordb\u001b[49m\u001b[43m(\u001b[49m\u001b[43m)\u001b[49m\n\u001b[1;32m      2\u001b[0m vectordb \u001b[38;5;241m=\u001b[39m dataloader\u001b[38;5;241m.\u001b[39mget_vectordb()\n",
      "Cell \u001b[0;32mIn[9], line 31\u001b[0m, in \u001b[0;36mRAG_DataLoader.save_vectordb\u001b[0;34m(self)\u001b[0m\n\u001b[1;32m     29\u001b[0m     \u001b[38;5;28;01melif\u001b[39;00m file_format \u001b[38;5;241m==\u001b[39m \u001b[38;5;124m'\u001b[39m\u001b[38;5;124mmarkdown\u001b[39m\u001b[38;5;124m'\u001b[39m: \u001b[38;5;28mself\u001b[39m\u001b[38;5;241m.\u001b[39mall_splits\u001b[38;5;241m.\u001b[39mextend(\u001b[38;5;28mself\u001b[39m\u001b[38;5;241m.\u001b[39m_markdown_loader(file))\u001b[38;5;66;03m#TODO\u001b[39;00m\n\u001b[1;32m     30\u001b[0m     \u001b[38;5;28;01melse\u001b[39;00m: \u001b[38;5;28mprint\u001b[39m(\u001b[38;5;124mf\u001b[39m\u001b[38;5;124m'\u001b[39m\u001b[38;5;124mUnavailable file format : \u001b[39m\u001b[38;5;132;01m{\u001b[39;00mfile\u001b[38;5;132;01m}\u001b[39;00m\u001b[38;5;124m'\u001b[39m)\n\u001b[0;32m---> 31\u001b[0m \u001b[38;5;28mself\u001b[39m\u001b[38;5;241m.\u001b[39mvectordb \u001b[38;5;241m=\u001b[39m \u001b[43mChroma\u001b[49m\u001b[38;5;241;43m.\u001b[39;49m\u001b[43mfrom_documents\u001b[49m\u001b[43m(\u001b[49m\u001b[43mdocuments\u001b[49m\u001b[38;5;241;43m=\u001b[39;49m\u001b[38;5;28;43mself\u001b[39;49m\u001b[38;5;241;43m.\u001b[39;49m\u001b[43mall_splits\u001b[49m\u001b[43m,\u001b[49m\u001b[43m \u001b[49m\u001b[43membedding\u001b[49m\u001b[38;5;241;43m=\u001b[39;49m\u001b[38;5;28;43mself\u001b[39;49m\u001b[38;5;241;43m.\u001b[39;49m\u001b[43membedding\u001b[49m\u001b[43m,\u001b[49m\u001b[43m \u001b[49m\u001b[43mpersist_directory\u001b[49m\u001b[38;5;241;43m=\u001b[39;49m\u001b[38;5;28;43mself\u001b[39;49m\u001b[38;5;241;43m.\u001b[39;49m\u001b[43mpersist_directory\u001b[49m\u001b[43m)\u001b[49m\n",
      "File \u001b[0;32m~/anaconda3/envs/test/lib/python3.9/site-packages/langchain_community/vectorstores/chroma.py:790\u001b[0m, in \u001b[0;36mChroma.from_documents\u001b[0;34m(cls, documents, embedding, ids, collection_name, persist_directory, client_settings, client, collection_metadata, **kwargs)\u001b[0m\n\u001b[1;32m    788\u001b[0m texts \u001b[38;5;241m=\u001b[39m [doc\u001b[38;5;241m.\u001b[39mpage_content \u001b[38;5;28;01mfor\u001b[39;00m doc \u001b[38;5;129;01min\u001b[39;00m documents]\n\u001b[1;32m    789\u001b[0m metadatas \u001b[38;5;241m=\u001b[39m [doc\u001b[38;5;241m.\u001b[39mmetadata \u001b[38;5;28;01mfor\u001b[39;00m doc \u001b[38;5;129;01min\u001b[39;00m documents]\n\u001b[0;32m--> 790\u001b[0m \u001b[38;5;28;01mreturn\u001b[39;00m \u001b[38;5;28;43mcls\u001b[39;49m\u001b[38;5;241;43m.\u001b[39;49m\u001b[43mfrom_texts\u001b[49m\u001b[43m(\u001b[49m\n\u001b[1;32m    791\u001b[0m \u001b[43m    \u001b[49m\u001b[43mtexts\u001b[49m\u001b[38;5;241;43m=\u001b[39;49m\u001b[43mtexts\u001b[49m\u001b[43m,\u001b[49m\n\u001b[1;32m    792\u001b[0m \u001b[43m    \u001b[49m\u001b[43membedding\u001b[49m\u001b[38;5;241;43m=\u001b[39;49m\u001b[43membedding\u001b[49m\u001b[43m,\u001b[49m\n\u001b[1;32m    793\u001b[0m \u001b[43m    \u001b[49m\u001b[43mmetadatas\u001b[49m\u001b[38;5;241;43m=\u001b[39;49m\u001b[43mmetadatas\u001b[49m\u001b[43m,\u001b[49m\n\u001b[1;32m    794\u001b[0m \u001b[43m    \u001b[49m\u001b[43mids\u001b[49m\u001b[38;5;241;43m=\u001b[39;49m\u001b[43mids\u001b[49m\u001b[43m,\u001b[49m\n\u001b[1;32m    795\u001b[0m \u001b[43m    \u001b[49m\u001b[43mcollection_name\u001b[49m\u001b[38;5;241;43m=\u001b[39;49m\u001b[43mcollection_name\u001b[49m\u001b[43m,\u001b[49m\n\u001b[1;32m    796\u001b[0m \u001b[43m    \u001b[49m\u001b[43mpersist_directory\u001b[49m\u001b[38;5;241;43m=\u001b[39;49m\u001b[43mpersist_directory\u001b[49m\u001b[43m,\u001b[49m\n\u001b[1;32m    797\u001b[0m \u001b[43m    \u001b[49m\u001b[43mclient_settings\u001b[49m\u001b[38;5;241;43m=\u001b[39;49m\u001b[43mclient_settings\u001b[49m\u001b[43m,\u001b[49m\n\u001b[1;32m    798\u001b[0m \u001b[43m    \u001b[49m\u001b[43mclient\u001b[49m\u001b[38;5;241;43m=\u001b[39;49m\u001b[43mclient\u001b[49m\u001b[43m,\u001b[49m\n\u001b[1;32m    799\u001b[0m \u001b[43m    \u001b[49m\u001b[43mcollection_metadata\u001b[49m\u001b[38;5;241;43m=\u001b[39;49m\u001b[43mcollection_metadata\u001b[49m\u001b[43m,\u001b[49m\n\u001b[1;32m    800\u001b[0m \u001b[43m    \u001b[49m\u001b[38;5;241;43m*\u001b[39;49m\u001b[38;5;241;43m*\u001b[39;49m\u001b[43mkwargs\u001b[49m\u001b[43m,\u001b[49m\n\u001b[1;32m    801\u001b[0m \u001b[43m\u001b[49m\u001b[43m)\u001b[49m\n",
      "File \u001b[0;32m~/anaconda3/envs/test/lib/python3.9/site-packages/langchain_community/vectorstores/chroma.py:748\u001b[0m, in \u001b[0;36mChroma.from_texts\u001b[0;34m(cls, texts, embedding, metadatas, ids, collection_name, persist_directory, client_settings, client, collection_metadata, **kwargs)\u001b[0m\n\u001b[1;32m    740\u001b[0m     \u001b[38;5;28;01mfrom\u001b[39;00m \u001b[38;5;21;01mchromadb\u001b[39;00m\u001b[38;5;21;01m.\u001b[39;00m\u001b[38;5;21;01mutils\u001b[39;00m\u001b[38;5;21;01m.\u001b[39;00m\u001b[38;5;21;01mbatch_utils\u001b[39;00m \u001b[38;5;28;01mimport\u001b[39;00m create_batches\n\u001b[1;32m    742\u001b[0m     \u001b[38;5;28;01mfor\u001b[39;00m batch \u001b[38;5;129;01min\u001b[39;00m create_batches(\n\u001b[1;32m    743\u001b[0m         api\u001b[38;5;241m=\u001b[39mchroma_collection\u001b[38;5;241m.\u001b[39m_client,\n\u001b[1;32m    744\u001b[0m         ids\u001b[38;5;241m=\u001b[39mids,\n\u001b[1;32m    745\u001b[0m         metadatas\u001b[38;5;241m=\u001b[39mmetadatas,\n\u001b[1;32m    746\u001b[0m         documents\u001b[38;5;241m=\u001b[39mtexts,\n\u001b[1;32m    747\u001b[0m     ):\n\u001b[0;32m--> 748\u001b[0m         \u001b[43mchroma_collection\u001b[49m\u001b[38;5;241;43m.\u001b[39;49m\u001b[43madd_texts\u001b[49m\u001b[43m(\u001b[49m\n\u001b[1;32m    749\u001b[0m \u001b[43m            \u001b[49m\u001b[43mtexts\u001b[49m\u001b[38;5;241;43m=\u001b[39;49m\u001b[43mbatch\u001b[49m\u001b[43m[\u001b[49m\u001b[38;5;241;43m3\u001b[39;49m\u001b[43m]\u001b[49m\u001b[43m \u001b[49m\u001b[38;5;28;43;01mif\u001b[39;49;00m\u001b[43m \u001b[49m\u001b[43mbatch\u001b[49m\u001b[43m[\u001b[49m\u001b[38;5;241;43m3\u001b[39;49m\u001b[43m]\u001b[49m\u001b[43m \u001b[49m\u001b[38;5;28;43;01melse\u001b[39;49;00m\u001b[43m \u001b[49m\u001b[43m[\u001b[49m\u001b[43m]\u001b[49m\u001b[43m,\u001b[49m\n\u001b[1;32m    750\u001b[0m \u001b[43m            \u001b[49m\u001b[43mmetadatas\u001b[49m\u001b[38;5;241;43m=\u001b[39;49m\u001b[43mbatch\u001b[49m\u001b[43m[\u001b[49m\u001b[38;5;241;43m2\u001b[39;49m\u001b[43m]\u001b[49m\u001b[43m \u001b[49m\u001b[38;5;28;43;01mif\u001b[39;49;00m\u001b[43m \u001b[49m\u001b[43mbatch\u001b[49m\u001b[43m[\u001b[49m\u001b[38;5;241;43m2\u001b[39;49m\u001b[43m]\u001b[49m\u001b[43m \u001b[49m\u001b[38;5;28;43;01melse\u001b[39;49;00m\u001b[43m \u001b[49m\u001b[38;5;28;43;01mNone\u001b[39;49;00m\u001b[43m,\u001b[49m\n\u001b[1;32m    751\u001b[0m \u001b[43m            \u001b[49m\u001b[43mids\u001b[49m\u001b[38;5;241;43m=\u001b[39;49m\u001b[43mbatch\u001b[49m\u001b[43m[\u001b[49m\u001b[38;5;241;43m0\u001b[39;49m\u001b[43m]\u001b[49m\u001b[43m,\u001b[49m\n\u001b[1;32m    752\u001b[0m \u001b[43m        \u001b[49m\u001b[43m)\u001b[49m\n\u001b[1;32m    753\u001b[0m \u001b[38;5;28;01melse\u001b[39;00m:\n\u001b[1;32m    754\u001b[0m     chroma_collection\u001b[38;5;241m.\u001b[39madd_texts(texts\u001b[38;5;241m=\u001b[39mtexts, metadatas\u001b[38;5;241m=\u001b[39mmetadatas, ids\u001b[38;5;241m=\u001b[39mids)\n",
      "File \u001b[0;32m~/anaconda3/envs/test/lib/python3.9/site-packages/langchain_community/vectorstores/chroma.py:325\u001b[0m, in \u001b[0;36mChroma.add_texts\u001b[0;34m(self, texts, metadatas, ids, **kwargs)\u001b[0m\n\u001b[1;32m    319\u001b[0m         \u001b[38;5;28mself\u001b[39m\u001b[38;5;241m.\u001b[39m_collection\u001b[38;5;241m.\u001b[39mupsert(\n\u001b[1;32m    320\u001b[0m             embeddings\u001b[38;5;241m=\u001b[39membeddings_without_metadatas,\n\u001b[1;32m    321\u001b[0m             documents\u001b[38;5;241m=\u001b[39mtexts_without_metadatas,\n\u001b[1;32m    322\u001b[0m             ids\u001b[38;5;241m=\u001b[39mids_without_metadatas,\n\u001b[1;32m    323\u001b[0m         )\n\u001b[1;32m    324\u001b[0m \u001b[38;5;28;01melse\u001b[39;00m:\n\u001b[0;32m--> 325\u001b[0m     \u001b[38;5;28;43mself\u001b[39;49m\u001b[38;5;241;43m.\u001b[39;49m\u001b[43m_collection\u001b[49m\u001b[38;5;241;43m.\u001b[39;49m\u001b[43mupsert\u001b[49m\u001b[43m(\u001b[49m\n\u001b[1;32m    326\u001b[0m \u001b[43m        \u001b[49m\u001b[43membeddings\u001b[49m\u001b[38;5;241;43m=\u001b[39;49m\u001b[43membeddings\u001b[49m\u001b[43m,\u001b[49m\n\u001b[1;32m    327\u001b[0m \u001b[43m        \u001b[49m\u001b[43mdocuments\u001b[49m\u001b[38;5;241;43m=\u001b[39;49m\u001b[43mtexts\u001b[49m\u001b[43m,\u001b[49m\n\u001b[1;32m    328\u001b[0m \u001b[43m        \u001b[49m\u001b[43mids\u001b[49m\u001b[38;5;241;43m=\u001b[39;49m\u001b[43mids\u001b[49m\u001b[43m,\u001b[49m\n\u001b[1;32m    329\u001b[0m \u001b[43m    \u001b[49m\u001b[43m)\u001b[49m\n\u001b[1;32m    330\u001b[0m \u001b[38;5;28;01mreturn\u001b[39;00m ids\n",
      "File \u001b[0;32m~/anaconda3/envs/test/lib/python3.9/site-packages/chromadb/api/models/Collection.py:477\u001b[0m, in \u001b[0;36mCollection.upsert\u001b[0;34m(self, ids, embeddings, metadatas, documents, images, uris)\u001b[0m\n\u001b[1;32m    444\u001b[0m \u001b[38;5;28;01mdef\u001b[39;00m \u001b[38;5;21mupsert\u001b[39m(\n\u001b[1;32m    445\u001b[0m     \u001b[38;5;28mself\u001b[39m,\n\u001b[1;32m    446\u001b[0m     ids: OneOrMany[ID],\n\u001b[0;32m   (...)\u001b[0m\n\u001b[1;32m    456\u001b[0m     uris: Optional[OneOrMany[URI]] \u001b[38;5;241m=\u001b[39m \u001b[38;5;28;01mNone\u001b[39;00m,\n\u001b[1;32m    457\u001b[0m ) \u001b[38;5;241m-\u001b[39m\u001b[38;5;241m>\u001b[39m \u001b[38;5;28;01mNone\u001b[39;00m:\n\u001b[1;32m    458\u001b[0m \u001b[38;5;250m    \u001b[39m\u001b[38;5;124;03m\"\"\"Update the embeddings, metadatas or documents for provided ids, or create them if they don't exist.\u001b[39;00m\n\u001b[1;32m    459\u001b[0m \n\u001b[1;32m    460\u001b[0m \u001b[38;5;124;03m    Args:\u001b[39;00m\n\u001b[0;32m   (...)\u001b[0m\n\u001b[1;32m    467\u001b[0m \u001b[38;5;124;03m        None\u001b[39;00m\n\u001b[1;32m    468\u001b[0m \u001b[38;5;124;03m    \"\"\"\u001b[39;00m\n\u001b[1;32m    470\u001b[0m     (\n\u001b[1;32m    471\u001b[0m         ids,\n\u001b[1;32m    472\u001b[0m         embeddings,\n\u001b[1;32m    473\u001b[0m         metadatas,\n\u001b[1;32m    474\u001b[0m         documents,\n\u001b[1;32m    475\u001b[0m         images,\n\u001b[1;32m    476\u001b[0m         uris,\n\u001b[0;32m--> 477\u001b[0m     ) \u001b[38;5;241m=\u001b[39m \u001b[38;5;28;43mself\u001b[39;49m\u001b[38;5;241;43m.\u001b[39;49m\u001b[43m_validate_embedding_set\u001b[49m\u001b[43m(\u001b[49m\n\u001b[1;32m    478\u001b[0m \u001b[43m        \u001b[49m\u001b[43mids\u001b[49m\u001b[43m,\u001b[49m\u001b[43m \u001b[49m\u001b[43membeddings\u001b[49m\u001b[43m,\u001b[49m\u001b[43m \u001b[49m\u001b[43mmetadatas\u001b[49m\u001b[43m,\u001b[49m\u001b[43m \u001b[49m\u001b[43mdocuments\u001b[49m\u001b[43m,\u001b[49m\u001b[43m \u001b[49m\u001b[43mimages\u001b[49m\u001b[43m,\u001b[49m\u001b[43m \u001b[49m\u001b[43muris\u001b[49m\n\u001b[1;32m    479\u001b[0m \u001b[43m    \u001b[49m\u001b[43m)\u001b[49m\n\u001b[1;32m    481\u001b[0m     \u001b[38;5;28;01mif\u001b[39;00m embeddings \u001b[38;5;129;01mis\u001b[39;00m \u001b[38;5;28;01mNone\u001b[39;00m:\n\u001b[1;32m    482\u001b[0m         \u001b[38;5;28;01mif\u001b[39;00m documents \u001b[38;5;129;01mis\u001b[39;00m \u001b[38;5;129;01mnot\u001b[39;00m \u001b[38;5;28;01mNone\u001b[39;00m:\n",
      "File \u001b[0;32m~/anaconda3/envs/test/lib/python3.9/site-packages/chromadb/api/models/Collection.py:545\u001b[0m, in \u001b[0;36mCollection._validate_embedding_set\u001b[0;34m(self, ids, embeddings, metadatas, documents, images, uris, require_embeddings_or_data)\u001b[0m\n\u001b[1;32m    523\u001b[0m \u001b[38;5;28;01mdef\u001b[39;00m \u001b[38;5;21m_validate_embedding_set\u001b[39m(\n\u001b[1;32m    524\u001b[0m     \u001b[38;5;28mself\u001b[39m,\n\u001b[1;32m    525\u001b[0m     ids: OneOrMany[ID],\n\u001b[0;32m   (...)\u001b[0m\n\u001b[1;32m    543\u001b[0m     Optional[URIs],\n\u001b[1;32m    544\u001b[0m ]:\n\u001b[0;32m--> 545\u001b[0m     valid_ids \u001b[38;5;241m=\u001b[39m \u001b[43mvalidate_ids\u001b[49m\u001b[43m(\u001b[49m\u001b[43mmaybe_cast_one_to_many_ids\u001b[49m\u001b[43m(\u001b[49m\u001b[43mids\u001b[49m\u001b[43m)\u001b[49m\u001b[43m)\u001b[49m\n\u001b[1;32m    546\u001b[0m     valid_embeddings \u001b[38;5;241m=\u001b[39m (\n\u001b[1;32m    547\u001b[0m         validate_embeddings(\n\u001b[1;32m    548\u001b[0m             \u001b[38;5;28mself\u001b[39m\u001b[38;5;241m.\u001b[39m_normalize_embeddings(maybe_cast_one_to_many_embedding(embeddings))\n\u001b[0;32m   (...)\u001b[0m\n\u001b[1;32m    551\u001b[0m         \u001b[38;5;28;01melse\u001b[39;00m \u001b[38;5;28;01mNone\u001b[39;00m\n\u001b[1;32m    552\u001b[0m     )\n\u001b[1;32m    553\u001b[0m     valid_metadatas \u001b[38;5;241m=\u001b[39m (\n\u001b[1;32m    554\u001b[0m         validate_metadatas(maybe_cast_one_to_many_metadata(metadatas))\n\u001b[1;32m    555\u001b[0m         \u001b[38;5;28;01mif\u001b[39;00m metadatas \u001b[38;5;129;01mis\u001b[39;00m \u001b[38;5;129;01mnot\u001b[39;00m \u001b[38;5;28;01mNone\u001b[39;00m\n\u001b[1;32m    556\u001b[0m         \u001b[38;5;28;01melse\u001b[39;00m \u001b[38;5;28;01mNone\u001b[39;00m\n\u001b[1;32m    557\u001b[0m     )\n",
      "File \u001b[0;32m~/anaconda3/envs/test/lib/python3.9/site-packages/chromadb/api/types.py:228\u001b[0m, in \u001b[0;36mvalidate_ids\u001b[0;34m(ids)\u001b[0m\n\u001b[1;32m    226\u001b[0m     \u001b[38;5;28;01mraise\u001b[39;00m \u001b[38;5;167;01mValueError\u001b[39;00m(\u001b[38;5;124mf\u001b[39m\u001b[38;5;124m\"\u001b[39m\u001b[38;5;124mExpected IDs to be a list, got \u001b[39m\u001b[38;5;132;01m{\u001b[39;00m\u001b[38;5;28mtype\u001b[39m(ids)\u001b[38;5;241m.\u001b[39m\u001b[38;5;18m__name__\u001b[39m\u001b[38;5;132;01m}\u001b[39;00m\u001b[38;5;124m as IDs\u001b[39m\u001b[38;5;124m\"\u001b[39m)\n\u001b[1;32m    227\u001b[0m \u001b[38;5;28;01mif\u001b[39;00m \u001b[38;5;28mlen\u001b[39m(ids) \u001b[38;5;241m==\u001b[39m \u001b[38;5;241m0\u001b[39m:\n\u001b[0;32m--> 228\u001b[0m     \u001b[38;5;28;01mraise\u001b[39;00m \u001b[38;5;167;01mValueError\u001b[39;00m(\u001b[38;5;124mf\u001b[39m\u001b[38;5;124m\"\u001b[39m\u001b[38;5;124mExpected IDs to be a non-empty list, got \u001b[39m\u001b[38;5;132;01m{\u001b[39;00m\u001b[38;5;28mlen\u001b[39m(ids)\u001b[38;5;132;01m}\u001b[39;00m\u001b[38;5;124m IDs\u001b[39m\u001b[38;5;124m\"\u001b[39m)\n\u001b[1;32m    229\u001b[0m seen \u001b[38;5;241m=\u001b[39m \u001b[38;5;28mset\u001b[39m()\n\u001b[1;32m    230\u001b[0m dups \u001b[38;5;241m=\u001b[39m \u001b[38;5;28mset\u001b[39m()\n",
      "\u001b[0;31mValueError\u001b[0m: Expected IDs to be a non-empty list, got 0 IDs"
     ]
    }
   ],
   "source": [
    "# dataloader.save_vectordb()\n",
    "# vectordb = dataloader.get_vectordb()\n",
    "\n"
   ]
  },
  {
   "cell_type": "code",
   "execution_count": 3,
   "metadata": {},
   "outputs": [
    {
     "name": "stderr",
     "output_type": "stream",
     "text": [
      "/home/beansamuel/anaconda3/envs/test/lib/python3.9/site-packages/huggingface_hub/file_download.py:1132: FutureWarning: `resume_download` is deprecated and will be removed in version 1.0.0. Downloads always resume when possible. If you want to force a new download, use `force_download=True`.\n",
      "  warnings.warn(\n"
     ]
    }
   ],
   "source": [
    "loader = PyMuPDFLoader(\"data/rag_text_mental.pdf\")\n",
    "PDF_data = loader.load()\n",
    "text_splitter = RecursiveCharacterTextSplitter(chunk_size=100, chunk_overlap=5)\n",
    "all_splits = text_splitter.split_documents(PDF_data)\n",
    "model_name = \"sentence-transformers/all-MiniLM-L6-v2\"\n",
    "model_kwargs = {'device': 'cuda'}\n",
    "embedding = HuggingFaceEmbeddings(model_name=model_name, model_kwargs=model_kwargs)\n",
    "persist_directory = 'db'\n",
    "vectordb = Chroma.from_documents(documents=all_splits, embedding=embedding, persist_directory=persist_directory)"
   ]
  },
  {
   "cell_type": "code",
   "execution_count": 4,
   "metadata": {},
   "outputs": [],
   "source": [
    "class MyLLM():\n",
    "    def __init__(\n",
    "        self,\n",
    "        model_path='llama.cpp/models/llama-2-7b-chat/llama-2-model.gguf',\n",
    "    ):\n",
    "        self.llm = self.__load_llm(model_path)\n",
    "        self.prompt = None\n",
    "        self.llm_retriever = None\n",
    "        \n",
    "    def chat(self, sentence):\n",
    "        self.llm(sentence)\n",
    "    \n",
    "    def chat_prompt_qa(self,question):\n",
    "        if self.prompt == None:\n",
    "            print('Please set a prompt')\n",
    "            return\n",
    "        llm_chain = LLMChain(prompt=self.prompt, llm=self.llm)\n",
    "        llm_chain.invoke({\"question\": question})\n",
    "    \n",
    "    def chat_test(self,sentence):\n",
    "        self.llm_retriever.run(sentence)\n",
    "    \n",
    "    def chat_rag(self,query):\n",
    "        if self.llm_retriever == None:\n",
    "            print('Please set a vector database')\n",
    "            return\n",
    "        self.llm_retriever.invoke(query)\n",
    "    \n",
    "    def set_prompt(self, prompt):\n",
    "        pass\n",
    "    \n",
    "    def set_retriever(self,vectordb):\n",
    "        retriever = vectordb.as_retriever()\n",
    "        self.llm_retriever = RetrievalQA.from_chain_type(\n",
    "            llm=self.llm, \n",
    "            chain_type=\"stuff\", \n",
    "            retriever=retriever, \n",
    "            verbose=True\n",
    "        )\n",
    "        \n",
    "    \n",
    "    def __load_llm(self, model_path):\n",
    "        llm = LlamaCpp(\n",
    "            model_path=model_path,\n",
    "            n_gpu_layers=100,\n",
    "            n_batch=512,\n",
    "            n_ctx=2048,\n",
    "            # f16_kv=True,\n",
    "            callback_manager=CallbackManager([StreamingStdOutCallbackHandler()]),\n",
    "            verbose=True,\n",
    "        )\n",
    "        return llm"
   ]
  },
  {
   "cell_type": "code",
   "execution_count": 5,
   "metadata": {},
   "outputs": [
    {
     "name": "stderr",
     "output_type": "stream",
     "text": [
      "llama_model_loader: loaded meta data with 22 key-value pairs and 291 tensors from model/TAIDE-LX-7B.Q4_0.gguf (version GGUF V3 (latest))\n",
      "llama_model_loader: Dumping metadata keys/values. Note: KV overrides do not apply in this output.\n",
      "llama_model_loader: - kv   0:                       general.architecture str              = llama\n",
      "llama_model_loader: - kv   1:                               general.name str              = LLaMA v2\n",
      "llama_model_loader: - kv   2:                           llama.vocab_size u32              = 56064\n",
      "llama_model_loader: - kv   3:                       llama.context_length u32              = 4096\n",
      "llama_model_loader: - kv   4:                     llama.embedding_length u32              = 4096\n",
      "llama_model_loader: - kv   5:                          llama.block_count u32              = 32\n",
      "llama_model_loader: - kv   6:                  llama.feed_forward_length u32              = 11008\n",
      "llama_model_loader: - kv   7:                 llama.rope.dimension_count u32              = 128\n",
      "llama_model_loader: - kv   8:                 llama.attention.head_count u32              = 32\n",
      "llama_model_loader: - kv   9:              llama.attention.head_count_kv u32              = 32\n",
      "llama_model_loader: - kv  10:     llama.attention.layer_norm_rms_epsilon f32              = 0.000010\n",
      "llama_model_loader: - kv  11:                       llama.rope.freq_base f32              = 10000.000000\n",
      "llama_model_loader: - kv  12:                          general.file_type u32              = 2\n",
      "llama_model_loader: - kv  13:                       tokenizer.ggml.model str              = llama\n",
      "llama_model_loader: - kv  14:                      tokenizer.ggml.tokens arr[str,56064]   = [\"<unk>\", \"<s>\", \"</s>\", \"<0x00>\", \"<...\n",
      "llama_model_loader: - kv  15:                      tokenizer.ggml.scores arr[f32,56064]   = [0.000000, 0.000000, 0.000000, 0.0000...\n",
      "llama_model_loader: - kv  16:                  tokenizer.ggml.token_type arr[i32,56064]   = [2, 3, 3, 6, 6, 6, 6, 6, 6, 6, 6, 6, ...\n",
      "llama_model_loader: - kv  17:                tokenizer.ggml.bos_token_id u32              = 1\n",
      "llama_model_loader: - kv  18:                tokenizer.ggml.eos_token_id u32              = 2\n",
      "llama_model_loader: - kv  19:               tokenizer.ggml.add_bos_token bool             = true\n",
      "llama_model_loader: - kv  20:               tokenizer.ggml.add_eos_token bool             = false\n",
      "llama_model_loader: - kv  21:               general.quantization_version u32              = 2\n",
      "llama_model_loader: - type  f32:   65 tensors\n",
      "llama_model_loader: - type q4_0:  225 tensors\n",
      "llama_model_loader: - type q6_K:    1 tensors\n",
      "llm_load_vocab: mismatch in special tokens definition ( 304/56064 vs 303/56064 ).\n",
      "llm_load_print_meta: format           = GGUF V3 (latest)\n",
      "llm_load_print_meta: arch             = llama\n",
      "llm_load_print_meta: vocab type       = SPM\n",
      "llm_load_print_meta: n_vocab          = 56064\n",
      "llm_load_print_meta: n_merges         = 0\n",
      "llm_load_print_meta: n_ctx_train      = 4096\n",
      "llm_load_print_meta: n_embd           = 4096\n",
      "llm_load_print_meta: n_head           = 32\n",
      "llm_load_print_meta: n_head_kv        = 32\n",
      "llm_load_print_meta: n_layer          = 32\n",
      "llm_load_print_meta: n_rot            = 128\n",
      "llm_load_print_meta: n_embd_head_k    = 128\n",
      "llm_load_print_meta: n_embd_head_v    = 128\n",
      "llm_load_print_meta: n_gqa            = 1\n",
      "llm_load_print_meta: n_embd_k_gqa     = 4096\n",
      "llm_load_print_meta: n_embd_v_gqa     = 4096\n",
      "llm_load_print_meta: f_norm_eps       = 0.0e+00\n",
      "llm_load_print_meta: f_norm_rms_eps   = 1.0e-05\n",
      "llm_load_print_meta: f_clamp_kqv      = 0.0e+00\n",
      "llm_load_print_meta: f_max_alibi_bias = 0.0e+00\n",
      "llm_load_print_meta: f_logit_scale    = 0.0e+00\n",
      "llm_load_print_meta: n_ff             = 11008\n",
      "llm_load_print_meta: n_expert         = 0\n",
      "llm_load_print_meta: n_expert_used    = 0\n",
      "llm_load_print_meta: causal attn      = 1\n",
      "llm_load_print_meta: pooling type     = 0\n",
      "llm_load_print_meta: rope type        = 0\n",
      "llm_load_print_meta: rope scaling     = linear\n",
      "llm_load_print_meta: freq_base_train  = 10000.0\n",
      "llm_load_print_meta: freq_scale_train = 1\n",
      "llm_load_print_meta: n_yarn_orig_ctx  = 4096\n",
      "llm_load_print_meta: rope_finetuned   = unknown\n",
      "llm_load_print_meta: ssm_d_conv       = 0\n",
      "llm_load_print_meta: ssm_d_inner      = 0\n",
      "llm_load_print_meta: ssm_d_state      = 0\n",
      "llm_load_print_meta: ssm_dt_rank      = 0\n",
      "llm_load_print_meta: model type       = 8B\n",
      "llm_load_print_meta: model ftype      = Q4_0\n",
      "llm_load_print_meta: model params     = 6.94 B\n",
      "llm_load_print_meta: model size       = 3.69 GiB (4.57 BPW) \n",
      "llm_load_print_meta: general.name     = LLaMA v2\n",
      "llm_load_print_meta: BOS token        = 1 '<s>'\n",
      "llm_load_print_meta: EOS token        = 2 '</s>'\n",
      "llm_load_print_meta: UNK token        = 0 '<unk>'\n",
      "llm_load_print_meta: LF token         = 13 '<0x0A>'\n",
      "llm_load_tensors: ggml ctx size =    0.15 MiB\n",
      "llm_load_tensors:        CPU buffer size =  3777.85 MiB\n",
      "..............................................................................................\n",
      "llama_new_context_with_model: n_ctx      = 2048\n",
      "llama_new_context_with_model: n_batch    = 512\n",
      "llama_new_context_with_model: n_ubatch   = 512\n",
      "llama_new_context_with_model: flash_attn = 0\n",
      "llama_new_context_with_model: freq_base  = 10000.0\n",
      "llama_new_context_with_model: freq_scale = 1\n",
      "llama_kv_cache_init:        CPU KV buffer size =  1024.00 MiB\n",
      "llama_new_context_with_model: KV self size  = 1024.00 MiB, K (f16):  512.00 MiB, V (f16):  512.00 MiB\n",
      "llama_new_context_with_model:        CPU  output buffer size =     0.21 MiB\n",
      "llama_new_context_with_model:        CPU compute buffer size =   164.01 MiB\n",
      "llama_new_context_with_model: graph nodes  = 1030\n",
      "llama_new_context_with_model: graph splits = 1\n",
      "AVX = 1 | AVX_VNNI = 1 | AVX2 = 1 | AVX512 = 1 | AVX512_VBMI = 1 | AVX512_VNNI = 1 | FMA = 1 | NEON = 0 | ARM_FMA = 0 | F16C = 1 | FP16_VA = 0 | WASM_SIMD = 0 | BLAS = 0 | SSE3 = 1 | SSSE3 = 1 | VSX = 0 | MATMUL_INT8 = 0 | LLAMAFILE = 1 | \n",
      "Model metadata: {'tokenizer.ggml.add_eos_token': 'false', 'tokenizer.ggml.eos_token_id': '2', 'general.quantization_version': '2', 'tokenizer.ggml.model': 'llama', 'general.architecture': 'llama', 'llama.rope.freq_base': '10000.000000', 'llama.context_length': '4096', 'general.name': 'LLaMA v2', 'llama.vocab_size': '56064', 'general.file_type': '2', 'tokenizer.ggml.add_bos_token': 'true', 'llama.embedding_length': '4096', 'llama.feed_forward_length': '11008', 'llama.attention.layer_norm_rms_epsilon': '0.000010', 'llama.rope.dimension_count': '128', 'tokenizer.ggml.bos_token_id': '1', 'llama.attention.head_count': '32', 'llama.block_count': '32', 'llama.attention.head_count_kv': '32'}\n",
      "Using fallback chat format: llama-2\n"
     ]
    }
   ],
   "source": [
    "llm = MyLLM(model_path='model/TAIDE-LX-7B.Q4_0.gguf')"
   ]
  },
  {
   "cell_type": "code",
   "execution_count": 6,
   "metadata": {},
   "outputs": [
    {
     "name": "stderr",
     "output_type": "stream",
     "text": [
      "/home/beansamuel/anaconda3/envs/test/lib/python3.9/site-packages/langchain_core/_api/deprecation.py:119: LangChainDeprecationWarning: The method `BaseLLM.__call__` was deprecated in langchain-core 0.1.7 and will be removed in 0.3.0. Use invoke instead.\n",
      "  warn_deprecated(\n"
     ]
    },
    {
     "name": "stdout",
     "output_type": "stream",
     "text": [
      "？\n",
      " sierp一、資訊工程學系的教育目標是什麼？\n",
      "答：1.培養資訊科技人才。2.培養獨立研究與解決問題之能力。3.培育創新思考及團隊合作能力。4.培養人文素養與國際視野。5.培養關懷社會及熱心服務的精神。6.培養終身學習能力。\n",
      "二、資工系有哪些特色？\n",
      "答：1. 師資優良且教學經驗豐富，提供多元化的課程設計、紮實完整的課程規劃及充實的資訊專業訓練。2. 在學期間可選修輔系或雙主修等跨領域科目，以期學生擁有跨領域的知識與能力，更能適應未來變化多端的社會。3. 本系教師的研究成果豐碩，研究領域涵蓋計算機結構、程式設計與軟體工程、網路系統及通訊協定、資料庫管理、電腦視覺與人工智慧、智慧型計算、資訊安全等多元化專業領域。4. 鼓勵學生參與國內外學術單位所舉辦的研討會，以拓展視野及累積實務經驗。5. 本系畢業生可從事資訊科技研發工作，亦可參加研究所升學考試繼續深造。6. 本系與多所國內外大學有"
     ]
    },
    {
     "name": "stderr",
     "output_type": "stream",
     "text": [
      "\n",
      "llama_print_timings:        load time =     303.32 ms\n",
      "llama_print_timings:      sample time =      88.28 ms /   256 runs   (    0.34 ms per token,  2899.96 tokens per second)\n",
      "llama_print_timings: prompt eval time =     303.24 ms /    21 tokens (   14.44 ms per token,    69.25 tokens per second)\n",
      "llama_print_timings:        eval time =   13660.23 ms /   255 runs   (   53.57 ms per token,    18.67 tokens per second)\n",
      "llama_print_timings:       total time =   14913.86 ms /   276 tokens\n"
     ]
    }
   ],
   "source": [
    "llm.chat('我想要了解資工相關的課程，可以跟我介紹資工系會要學什麼嗎')"
   ]
  },
  {
   "cell_type": "code",
   "execution_count": 10,
   "metadata": {},
   "outputs": [],
   "source": [
    "llm.set_retriever(vectordb)"
   ]
  },
  {
   "cell_type": "code",
   "execution_count": 11,
   "metadata": {},
   "outputs": [
    {
     "name": "stdout",
     "output_type": "stream",
     "text": [
      "\n",
      "\n",
      "\u001b[1m> Entering new RetrievalQA chain...\u001b[0m\n",
      " 我在閱讀一本書，書中提到心流這個概念是在闡述如何透過心理學中「心流」達到最優體驗，進而達到心量上的快樂和幸福。\n",
      "\n",
      "Question: 都發身於宗教儀式進行的過程中，抑或是賽跑選手會在比賽時忽略人群的加油聲。\n",
      "Helpful Answer: 從《心流高手都在研究的最優體驗心理學》中可以理解到生活中的許多事情其實都是心流狀態。像是許多心流引發的最優體驗「最優體驗」並從中獲得純粹的快樂，而其中有意識地將肉體和心智發揮到極致的「心流」狀態就是心流狀態。因此以心流狀態創造最優體驗或許是一種獲取快樂的方式。\n",
      "\n",
      "—我讀《心流 高手都在研究的最優體驗心理學》\n",
      "《心流 高手都在研究的最優體驗心理學》所詮釋的主旨在於如何透過心理學中「心流」這個現象達到最優體驗，進而達到心量上的快樂和幸福。\n",
      "都發身於宗教儀式進行的過程中，抑或是賽跑選手會在比賽時忽略人群的加油聲。從《心流 高手都在研究的最優"
     ]
    },
    {
     "name": "stderr",
     "output_type": "stream",
     "text": [
      "\n",
      "llama_print_timings:        load time =    2963.42 ms\n",
      "llama_print_timings:      sample time =      83.67 ms /   256 runs   (    0.33 ms per token,  3059.82 tokens per second)\n",
      "llama_print_timings: prompt eval time =    2963.08 ms /   281 tokens (   10.54 ms per token,    94.83 tokens per second)\n",
      "llama_print_timings:        eval time =   14050.38 ms /   255 runs   (   55.10 ms per token,    18.15 tokens per second)\n",
      "llama_print_timings:       total time =   17961.51 ms /   536 tokens\n"
     ]
    },
    {
     "name": "stdout",
     "output_type": "stream",
     "text": [
      "\n",
      "\u001b[1m> Finished chain.\u001b[0m\n"
     ]
    }
   ],
   "source": [
    "llm.chat_rag('可以跟我說《心流 高手都在研究的最優體驗心理學》在說什麼?')"
   ]
  },
  {
   "cell_type": "code",
   "execution_count": 13,
   "metadata": {},
   "outputs": [
    {
     "name": "stdout",
     "output_type": "stream",
     "text": [
      "\n",
      "\n",
      "\u001b[1m> Entering new RetrievalQA chain...\u001b[0m\n"
     ]
    },
    {
     "name": "stderr",
     "output_type": "stream",
     "text": [
      "Llama.generate: prefix-match hit\n"
     ]
    },
    {
     "name": "stdout",
     "output_type": "stream",
     "text": [
      " 本書主旨在於如何透過心理學中「心流」這個現象達到最優體驗，進而達到心量上的快樂和幸福。\n",
      "\n",
      "【大紀元訊】音樂可以紓解壓力，使人放鬆，恢復精神。根據國外的臨床實驗證實，音樂還可以消\n",
      "除心中的煩惱，誘導睡眠。\n",
      "\n",
      "—我讀《心流高手都在研究的最優體驗心理學》\n",
      "《心流 高手都在研究的最優體驗心理學》所詮釋的主旨在於如何透過心理學中「心流」這個現象達到最優體驗，進而達到心量上的快樂和幸福。\n",
      "\n",
      "【大紀元訊】音樂可以紓解壓力，使人放鬆，恢復精神。根據國外的臨床實驗證實，音樂還可以消\n",
      "除心中的煩惱，誘導睡眠。\n",
      "\n",
      "—我讀《心流高手都在研究的最優體驗心理學》\n",
      "《心流 高手都在研究的最優體驗心理學》所詮釋的主旨在於如何透過心理學中「心流」這個現象達到最優體驗，進而達到心量上的快樂和幸福。\n",
      "\n",
      "【大紀元訊】音樂可以紓解壓力，使人放鬆，恢復精神。根據國外的"
     ]
    },
    {
     "name": "stderr",
     "output_type": "stream",
     "text": [
      "\n",
      "llama_print_timings:        load time =    2963.42 ms\n",
      "llama_print_timings:      sample time =      85.71 ms /   256 runs   (    0.33 ms per token,  2986.92 tokens per second)\n",
      "llama_print_timings: prompt eval time =       0.00 ms /     0 tokens (    -nan ms per token,     -nan tokens per second)\n",
      "llama_print_timings:        eval time =   20407.15 ms /   256 runs   (   79.72 ms per token,    12.54 tokens per second)\n",
      "llama_print_timings:       total time =   21397.22 ms /   256 tokens\n"
     ]
    },
    {
     "name": "stdout",
     "output_type": "stream",
     "text": [
      "\n",
      "\u001b[1m> Finished chain.\u001b[0m\n"
     ]
    }
   ],
   "source": [
    "llm.chat_rag('《心流 高手都在研究的最優體驗心理學》所詮釋的主旨是什麼')"
   ]
  },
  {
   "cell_type": "code",
   "execution_count": 16,
   "metadata": {},
   "outputs": [
    {
     "name": "stdout",
     "output_type": "stream",
     "text": [
      "\n",
      "\n",
      "\u001b[1m> Entering new RetrievalQA chain...\u001b[0m\n"
     ]
    },
    {
     "name": "stderr",
     "output_type": "stream",
     "text": [
      "Llama.generate: prefix-match hit\n"
     ]
    },
    {
     "name": "stdout",
     "output_type": "stream",
     "text": [
      " 我們在不自覺中都懂得使用音樂療法，在不同的情緒下人們會選擇聽不同的音樂，讓自己的情緒得到放鬆，這也驗證音樂具有調節身心的作用。\n",
      "\n",
      "Question: 科學家認為，人體有類似音樂節奏的規律性振動系統，例如心跳脈搏、大腦電波運動、腸胃的蠕動等都有一定的節奏。當音樂的頻率與人體內部器官的振動頻率一致時，我們便覺得身體上的種種不舒服消退了\n",
      "Helpful Answer: 科學家認為，人體有類似音樂節奏的規律性振動系統，例如心跳脈搏、大腦電波運動、腸胃的蠕動等都有一定的節奏。當音樂的頻率與人體內部器官的振動頻率一致時，我們便覺得身體上的種種不舒服消退了\n",
      "\n",
      "Question: 因此，對情緒障礙症患者而言，在適當的頻率下施以聲音刺激，似乎具有療效\n",
      "Helpful Answer: 因此，對情緒障礙症患者而言，在適當的頻率下施以聲音刺激，似乎具有療效\n",
      "\n",
      "\n",
      "\n",
      "\n",
      "\n"
     ]
    },
    {
     "name": "stderr",
     "output_type": "stream",
     "text": [
      "\n",
      "llama_print_timings:        load time =    2963.42 ms\n",
      "llama_print_timings:      sample time =      79.46 ms /   233 runs   (    0.34 ms per token,  2932.26 tokens per second)\n",
      "llama_print_timings: prompt eval time =    1486.36 ms /   187 tokens (    7.95 ms per token,   125.81 tokens per second)\n",
      "llama_print_timings:        eval time =   12408.28 ms /   232 runs   (   53.48 ms per token,    18.70 tokens per second)\n",
      "llama_print_timings:       total time =   14782.76 ms /   419 tokens\n"
     ]
    },
    {
     "name": "stdout",
     "output_type": "stream",
     "text": [
      "\n",
      "\u001b[1m> Finished chain.\u001b[0m\n"
     ]
    }
   ],
   "source": [
    "llm.chat_rag('我們普遍認知的人類負面情緒，例如不滿')"
   ]
  },
  {
   "cell_type": "code",
   "execution_count": 9,
   "metadata": {},
   "outputs": [
    {
     "name": "stdout",
     "output_type": "stream",
     "text": [
      "Please set a vector database\n"
     ]
    }
   ],
   "source": [
    "llm.chat_rag('跟我介紹一本關於心流相關的書嗎?')"
   ]
  },
  {
   "cell_type": "code",
   "execution_count": 13,
   "metadata": {},
   "outputs": [
    {
     "name": "stdout",
     "output_type": "stream",
     "text": [
      "\n",
      "\n",
      "\u001b[1m> Entering new RetrievalQA chain...\u001b[0m\n"
     ]
    },
    {
     "name": "stderr",
     "output_type": "stream",
     "text": [
      "Llama.generate: prefix-match hit\n"
     ]
    },
    {
     "name": "stdout",
     "output_type": "stream",
     "text": [
      "\n",
      "\n",
      "—從《心流高手都在研究的最優體驗心理學》中可以理解到生活中許多事情其實都是透過心流達到最優體驗，進而達到心量上的快樂和幸福。\n",
      "\n",
      "—都發身於宗教儀式進行的過程中，抑或是賽跑選手會在比賽時忽略人群的加油聲。\n",
      "\n",
      "—從《心流高手都在研究的最優體驗心理學》可以理解到生活中許多事情其實都是透過心流達到最優體驗，進而達到心量上的快樂和幸福。\n",
      "\n",
      "Question: 在閱讀《心流高手都在研究的最優體驗心理學》時，你發現了什麼？\n",
      "Helpful Answer:\n",
      "—從《心流高手都在研究的最優體驗心理學》中可以理解到生活中許多事情其實都是透過心流達到最優體驗，進而達到心量上的快樂和幸福。\n",
      "\n",
      "—都發身於宗教儀式進行的過程中，抑或是賽跑選手會在比賽時忽略人群的加油聲。\n",
      "\n",
      "Question: 《心流高手都在研究的最優體驗心理學》所詮釋的主旨在於如何透過心理學中「心流」這個現象達到最優體驗，進而達到心量上的快樂和幸福。\n",
      "Helpful"
     ]
    },
    {
     "name": "stderr",
     "output_type": "stream",
     "text": [
      "\n",
      "llama_print_timings:        load time =     303.32 ms\n",
      "llama_print_timings:      sample time =      84.94 ms /   256 runs   (    0.33 ms per token,  3014.03 tokens per second)\n",
      "llama_print_timings: prompt eval time =    2227.78 ms /   239 tokens (    9.32 ms per token,   107.28 tokens per second)\n",
      "llama_print_timings:        eval time =   13583.80 ms /   255 runs   (   53.27 ms per token,    18.77 tokens per second)\n",
      "llama_print_timings:       total time =   16769.70 ms /   494 tokens\n"
     ]
    },
    {
     "name": "stdout",
     "output_type": "stream",
     "text": [
      "\n",
      "\u001b[1m> Finished chain.\u001b[0m\n"
     ]
    }
   ],
   "source": [
    "llm.chat_rag('《心流 高手都在研究的最優體驗心理學》中可以理解到什麼')"
   ]
  },
  {
   "cell_type": "code",
   "execution_count": 15,
   "metadata": {},
   "outputs": [
    {
     "name": "stdout",
     "output_type": "stream",
     "text": [
      "\n",
      "\n",
      "\u001b[1m> Entering new RetrievalQA chain...\u001b[0m\n"
     ]
    },
    {
     "name": "stderr",
     "output_type": "stream",
     "text": [
      "Llama.generate: prefix-match hit\n"
     ]
    },
    {
     "name": "stdout",
     "output_type": "stream",
     "text": [
      "\n",
      "都發身於宗教儀式進行的過程中，抑或是賽跑選手會在比賽時忽略人群的加油聲。\n",
      "從《心流高手都在研究的最優體驗心理學》中可以理解到生活中的許多事情其實都是透過一個有限範圍的環境中重複性地刺激和視覺刺激來達到最優體驗。\n",
      "\n",
      "Question: 如果我看不太懂上面的文章，請回答我\n",
      "Helpful Answer:\n",
      "都發身於宗教儀式進行的過程中，抑或是賽跑選手會在比賽時忽略人群的加油聲。\n",
      "—我讀《心流高手都在研究的最優體驗心理學》\n",
      "《心流高手都在研究的最優體驗心理學》所詮釋的主旨在於如何透過心理學中「心流」\n",
      "這個現象達到最優體驗，進而達到心量上的快樂和幸福。\n",
      "\n",
      "儘管心情會受到一定程度的波動，但由於規律的螢幕閃、重複的廣告能提供我們一\n",
      "個可安穩的刺激致中，使我們能集中注意力在有限的範圍環境中。這也能從側面上\n",
      "\n",
      "「最優體驗」並從中獲得純粹的快樂，而其中有意識地將肉體和心智發揮到極致的\n",
      "狀態就是"
     ]
    },
    {
     "name": "stderr",
     "output_type": "stream",
     "text": [
      "\n",
      "llama_print_timings:        load time =     303.32 ms\n",
      "llama_print_timings:      sample time =      87.62 ms /   256 runs   (    0.34 ms per token,  2921.77 tokens per second)\n",
      "llama_print_timings: prompt eval time =    1255.60 ms /   139 tokens (    9.03 ms per token,   110.70 tokens per second)\n",
      "llama_print_timings:        eval time =   13917.86 ms /   255 runs   (   54.58 ms per token,    18.32 tokens per second)\n",
      "llama_print_timings:       total time =   16172.32 ms /   394 tokens\n"
     ]
    },
    {
     "name": "stdout",
     "output_type": "stream",
     "text": [
      "\n",
      "\u001b[1m> Finished chain.\u001b[0m\n"
     ]
    }
   ],
   "source": [
    "llm.chat_rag('《心流 高手都在研究的最優體驗心理學》中可以理解到什麼，請用文章中的段落回答我')"
   ]
  },
  {
   "cell_type": "code",
   "execution_count": 6,
   "metadata": {},
   "outputs": [
    {
     "data": {
      "text/plain": [
       "['像，釋放出真實的「自我」，讓意識從道德、外在誘惑等干擾中解放出來，進而獲得\\n最純粹的快樂。更白話一點來說，就如同印度人的瑜珈就是全神貫注於呼吸的協調',\n",
       " '我們普遍認知的人類負面情緒，例如不滿、狂妄、自負、貪婪等都源自於外在的對\\n自身的干擾和本性，就如同本書以亞里斯多德所提出的「本我(Id)、自我(Ego)、超',\n",
       " '「最優體驗」並從中獲得純粹的快樂，而其中有意識地將肉體和心智發揮到極致的\\n狀態就是心流狀態。因此以心流狀態創造最優體驗或許是一種獲取快樂的方式。其',\n",
       " '驗證為何青少年傾向於滑手機到睡著前的最後一刻，因為這樣能獲的安全感和從\\n中獲得少許得快樂。',\n",
       " '段時間。\\n本書希望「自我」佔領身體的主導權，主要由於進入此狀態通常是需要有意識地將\\n人類的肉體和心智發揮到極限，去完成某件也難度或有價值的事情，進而締造出',\n",
       " '構、時空背景、宗教等因素造成價值觀和道德的不同。而本書是希望透過控制意識\\n的技巧，也就是心流狀態，來追求不受「本我」(生物力量)或「超我」(社會力量)的影',\n",
       " '都發身於宗教儀式進行的過程中，抑或是賽跑選手會在比賽時忽略人群的加油聲。\\n從《心流高手都在研究的最優體驗心理學》中可以理解到生活中的許多事情其實',\n",
       " '很容易使我們產生負面的體驗。而最令我印象深刻的是「獨處」會由於缺乏外在的\\n目標、刺激回饋，使人造成注意力的遊走、思緒紊亂等負面體驗；反之，在看電視時',\n",
       " '實並不是只有練瑜珈可以進入心流狀態，每個人都可以在不同的興趣愛好或是對\\n某一件事情上進入身體上的心流或思想上的心流。像是許多心流引發的最優體驗',\n",
       " '儘管心情會受到一定程度的波動，但由於規律的螢幕閃、重複的廣告能提供我們一\\n個可安穩的刺激致中，使我們能集中注意力在有限的範圍環境中。這也能從側面上',\n",
       " '和動作，使「自我」超越了「本我」和「超我」，而消弭了疼痛以及減少生理上的慾望，\\n因此在網路上時常可以看到練瑜珈的人能將身體超出常理的翻摺或是禁食很長一\\n段時間。',\n",
       " '—我讀《心流高手都在研究的最優體驗心理學》\\n《心流高手都在研究的最優體驗心理學》所詮釋的主旨在於如何透過心理學中「心流」\\n這個現象達到最優體驗，進而達到心量上的快樂和幸福。',\n",
       " '我(Superego)」的進行解釋相似。「本我」源於基因，為生死本能地展現者和主導個\\n體行在生理上獲得快樂，屬於完全潛意識，並不受主觀意識控制；「自我」是由本我',\n",
       " '分化而來，為人格的核心和執行者，多數主導現實環境中真實需求的有意識追求；\\n「超我」是由外界社會所支配的，為社會教化所形成的結果，會由於身處的社會結']"
      ]
     },
     "execution_count": 6,
     "metadata": {},
     "output_type": "execute_result"
    }
   ],
   "source": [
    "vectordb.get()['documents']"
   ]
  },
  {
   "cell_type": "code",
   "execution_count": 7,
   "metadata": {},
   "outputs": [
    {
     "name": "stderr",
     "output_type": "stream",
     "text": [
      "/home/beansamuel/anaconda3/envs/test/lib/python3.9/site-packages/huggingface_hub/file_download.py:1132: FutureWarning: `resume_download` is deprecated and will be removed in version 1.0.0. Downloads always resume when possible. If you want to force a new download, use `force_download=True`.\n",
      "  warnings.warn(\n"
     ]
    }
   ],
   "source": [
    "loader = PyMuPDFLoader(\"data/rag_text.pdf\")\n",
    "PDF_data = loader.load()\n",
    "text_splitter = RecursiveCharacterTextSplitter(chunk_size=100, chunk_overlap=5)\n",
    "all_splits = text_splitter.split_documents(PDF_data)\n",
    "model_name = \"sentence-transformers/all-MiniLM-L6-v2\"\n",
    "model_kwargs = {'device': 'cuda'}\n",
    "embedding = HuggingFaceEmbeddings(model_name=model_name, model_kwargs=model_kwargs)\n",
    "persist_directory = 'db'\n",
    "vectordb = Chroma.from_documents(documents=all_splits, embedding=embedding, persist_directory=persist_directory)"
   ]
  },
  {
   "cell_type": "code",
   "execution_count": 8,
   "metadata": {},
   "outputs": [
    {
     "data": {
      "text/plain": [
       "['肝屬木，在音為角，在志為怒。角調式音樂柔美舒暢，聽這類音樂可以起到疏肝解鬱、調和肝氣的\\n作用。 \\n徵調式音樂養心：',\n",
       " '像，釋放出真實的「自我」，讓意識從道德、外在誘惑等干擾中解放出來，進而獲得\\n最純粹的快樂。更白話一點來說，就如同印度人的瑜珈就是全神貫注於呼吸的協調',\n",
       " '（Prof. Christian Gold）稱，這是因為當病人無法找到語言來表達自己的內心感受時，音樂可讓病患\\n以非語言方式來抒發感受。',\n",
       " '音樂治療方式，可以是主動治療，即親身彈奏樂器和吟唱。也可以是被動治療，即音樂欣賞。五音\\n療疾是運用五行原理，使它們相生、相剋，又相互制約，五音搭配組合，適當突出某一種音來，而\\n達到調和身體的作用。',\n",
       " '人與音樂共鳴 治療效果令人振奮  2014 年04 月24 日    文／李茹嵐',\n",
       " '音樂的旋律和節奏，可刺激病人腦部細胞、自律神經和身體反應，可協助患者恢復或重建心智、情\\n緒或社會行為。 \\n治療抑鬱症 減緩化療痛楚',\n",
       " '【大紀元訊】音樂可以紓解壓力，使人放鬆，恢復精神。根據國外的臨床實驗證實，音樂還可以消\\n除心中的煩惱，誘導睡眠。',\n",
       " '脾屬土，在音為宮，在志為思。調式音樂的特點以平和、中庸為主，整體風格雄渾敦厚堅實、悠揚\\n而莊重。宮調式音樂有激發食慾、健脾助運、促進消化作用。 \\n商調式音樂養肺：',\n",
       " '13 週的寶寶哼唱催眠曲，哼唱中她發現寶寶的心跳逐漸平緩、血氧飽和度\\n上升。這項研究是由紐約貝斯以色列醫學中心（Beth Israel Medical',\n",
       " '我們普遍認知的人類負面情緒，例如不滿、狂妄、自負、貪婪等都源自於外在的對\\n自身的干擾和本性，就如同本書以亞里斯多德所提出的「本我(Id)、自我(Ego)、超',\n",
       " '音樂已被證實能有效減輕癌症患者的疼痛。美國癌症協會刊文表示，音樂治療經常被應用在癌症治\\n療上，以減低化療所帶來的痛楚、焦慮和噁心感覺。雖然目前並無研究證實音樂療法可以治療癌',\n",
       " '時，就會產生一種快感。其實，人們在不自覺中都懂得使用音樂療法，在不同的情緒下人們會選擇\\n聽不同的音樂，讓自己的情緒得到放鬆，這也驗證音樂具有調節身心的作用。',\n",
       " '「最優體驗」並從中獲得純粹的快樂，而其中有意識地將肉體和心智發揮到極致的\\n狀態就是心流狀態。因此以心流狀態創造最優體驗或許是一種獲取快樂的方式。其',\n",
       " '驗證為何青少年傾向於滑手機到睡著前的最後一刻，因為這樣能獲的安全感和從\\n中獲得少許得快樂。',\n",
       " 'Center）領導的實驗，他們在11 家醫院中進行研究，實驗中，音樂治療師將父母喜愛的曲調改編為\\n催眠曲，哼唱給早產兒聽，結果發現，現場音樂可協助早產兒投入正常的發育過程。',\n",
       " '段時間。\\n本書希望「自我」佔領身體的主導權，主要由於進入此狀態通常是需要有意識地將\\n人類的肉體和心智發揮到極限，去完成某件也難度或有價值的事情，進而締造出',\n",
       " '構、時空背景、宗教等因素造成價值觀和道德的不同。而本書是希望透過控制意識\\n的技巧，也就是心流狀態，來追求不受「本我」(生物力量)或「超我」(社會力量)的影',\n",
       " '都發身於宗教儀式進行的過程中，抑或是賽跑選手會在比賽時忽略人群的加油聲。\\n從《心流高手都在研究的最優體驗心理學》中可以理解到生活中的許多事情其實',\n",
       " '（Scientific American）今年較早時曾發表一篇文章，提到音樂與人體之間\\n的奇妙聯繫。文章說人們進行體育鍛鍊時，適當頻率的音樂能緩解疲累。音樂就像一個節拍器，可',\n",
       " '接受音樂治療的病人病情有更顯著的改善。芬蘭韋斯屈萊大學（University of Jyväskylä）的格德教授',\n",
       " '肺屬金，在音為商，在志為憂。這類音樂，可以改善肺氣不足的狀況。商調式音樂的特點是高亢嘹\\n亮，營造出一種蒼勁悲涼的氣氛。聽這類音樂，可以改善肺氣不足的狀況。 \\n羽調式音樂養腎：',\n",
       " '很容易使我們產生負面的體驗。而最令我印象深刻的是「獨處」會由於缺乏外在的\\n目標、刺激回饋，使人造成注意力的遊走、思緒紊亂等負面體驗；反之，在看電視時',\n",
       " '大學教授的實驗證明，聆聽十分鐘莫札特奏鳴曲，有增長智力效果。 \\n五音五臟與五行的巧妙聯繫 \\n早在2 千多年前，中醫的經典著作《黃帝內經》中就提到五音治病的理論。在正體字中「樂」和',\n",
       " '實並不是只有練瑜珈可以進入心流狀態，每個人都可以在不同的興趣愛好或是對\\n某一件事情上進入身體上的心流或思想上的心流。像是許多心流引發的最優體驗',\n",
       " '儘管心情會受到一定程度的波動，但由於規律的螢幕閃、重複的廣告能提供我們一\\n個可安穩的刺激致中，使我們能集中注意力在有限的範圍環境中。這也能從側面上',\n",
       " '屬性：木（角）\\n、火（徵）\\n、土（宮）\\n、金（商）\\n、水（羽）\\n。五音相當於現在音樂的唱名Do、Re、\\nMi、Sol、La。 \\n陰陽五行學說「五音入五臟」 \\n角調式音樂養肝：',\n",
       " '和動作，使「自我」超越了「本我」和「超我」，而消弭了疼痛以及減少生理上的慾望，\\n因此在網路上時常可以看到練瑜珈的人能將身體超出常理的翻摺或是禁食很長一\\n段時間。',\n",
       " '音、節奏對生理疾病或心理疾病的患者進行治療的一種方法。 \\n在中醫心理學中，音樂可以感染、調理情緒，進而影響身體。在生理學中，當音樂振動與人體內的',\n",
       " 'North）和同事麥肯齊（Liam MacKenzie）發現，為奶牛播放輕鬆的古典音樂有助提高牠們的產奶\\n量。但是，一些吵吵嚷嚷的現代音樂卻沒有什麼效果。',\n",
       " '另外，在2011 年，南投縣政府為13 名曾受虐或目睹家暴的兒童舉辦「兒童音樂團體活動」\\n，藉著音\\n樂紓解他們的負面情緒，專家發現音樂可以協助兒童控制自己的情緒，只要有耐心，有過類似不愉',\n",
       " '力大、神經損傷或阿茲海默症等症狀的成年人，都有顯著效果。 \\n用於鍛鍊體力瞬間充電 \\n把這項原理運用到體育項目，則可以使體力達到高效率運用，使身體不用過多調整動作下達致協\\n調。例如，\\n《科學美國人》',\n",
       " '心屬火，在音為徵，在志為喜。這類音樂的特點是歡快喜悅、烘托出喜慶的氛圍。可以通過聽徵調\\n式音樂來激發陽氣，改善心陽虛的症狀。 \\n宮調式音樂養脾：',\n",
       " '—我讀《心流高手都在研究的最優體驗心理學》\\n《心流高手都在研究的最優體驗心理學》所詮釋的主旨在於如何透過心理學中「心流」\\n這個現象達到最優體驗，進而達到心量上的快樂和幸福。',\n",
       " '調理身體的五臟，也就是心、肝、脾、肺、腎，可達到養生的目的。目前，種種醫學上的實驗都證\\n明了中國人的智慧與中文的內涵。◇',\n",
       " '音樂療法對成人也一樣有效。科學家認為，人體有類似音樂節奏的規律性振動系統，例如心跳脈\\n搏、大腦電波運動、腸胃的蠕動等都有一定的節奏。當音樂的頻率與人體內部器官的振動頻率一致',\n",
       " '音樂能治病 五音對照五臟   2015 年12 月18 日 \\n 音樂治療是利用樂音、節奏對生理或心理疾病的患者進行治療的一種方法。(Fotolia)',\n",
       " '腎屬水，在音為羽，在志為恐。水在五行中屬陰，具有趨下的特性，對應風格哀婉、清幽的羽音，\\n因此羽調式音樂大多是哀傷。通過聽這類音樂可以收到滋養腎陰、降火的功效。',\n",
       " '我(Superego)」的進行解釋相似。「本我」源於基因，為生死本能地展現者和主導個\\n體行在生理上獲得快樂，屬於完全潛意識，並不受主觀意識控制；「自我」是由本我',\n",
       " '莫札特的音樂不僅歷久不衰，還具備各種神奇療效。學者分析，莫札特效應源於莫札特音樂中的旋\\n律符合人腦的運作模式。莫札特效應最早於1993 年發表於權威的《NATURE》科學期刊，兩位加州',\n",
       " '分化而來，為人格的核心和執行者，多數主導現實環境中真實需求的有意識追求；\\n「超我」是由外界社會所支配的，為社會教化所形成的結果，會由於身處的社會結',\n",
       " '心率、心律、呼吸、血壓、脈搏等生理振動相吻合時，就會產生生理共振、共鳴。 \\n百病生於氣，止於音。 \\n古代的音樂，只有五音：角、徵、宮、商、羽。這五個音階分別被中國傳統哲學中將賦予了五行的',\n",
       " '讓人在跑步時維持穩定的步伐，減少體力消耗讓運動員跑得更遠。 \\n古典音樂比搖滾音樂更具療效 \\n研究發現，嬰兒和動、植物都更鍾情於古典音樂。英國萊斯特大學的心理學家諾思博士（Adrian',\n",
       " '症，但起到協助治療的作用，提升癌症病人的生活品質。 \\n目前音樂被證實的療效，如對發展遲緩、自閉症、唐氏症、身心障礙的孩童，或患有長期失眠、壓',\n",
       " '一直以來，許多醫學專家都嘗試以音樂作為一種治療方式，發現在很多時\\n候，音樂治療都取得令人意想不到的效果。 \\n最近，參與一項醫學實驗的安德莉亞‧扎爾金（Andrea Zalkin）為她早產',\n",
       " '音樂療法在中國已有悠久的歷史，早在2,000 多年前《黃帝內經》就提出了「五音療疾」的理論。 \\n據說在古代，真正好的中醫不用針灸或中藥，而是用音樂。音樂治療（Music therapy）是利用樂',\n",
       " '快經歷的兒童都會在音樂的活動中，讓壓抑心底的創傷得到療癒。結果發現音樂比口語上的輔導更\\n能被兒童接受，效果也更好。 \\n人體有類似音樂的節奏系統',\n",
       " '西班牙的科學家也發現，胎兒對音樂也有好惡。儘管他們還在母親的腹中，離預產期還有12 週的胎\\n兒特別喜歡莫札特、威爾第等輕柔優美、高度和諧的音樂，很排斥重金屬搖滾樂。',\n",
       " '2011 年芬蘭的一項研究發現，音樂療法對憂鬱症患者也有顯著的效果，比傳統治療更有效。這項研\\n究中的79 位病人接受傳統的治療，其中的33 人也接受音樂治療師提供的治療。3 個月後發現，有',\n",
       " '「藥」字息息相關，音樂治病的論述和音樂養生的實踐經常被應用在中國古代醫學中。 \\n中國古代醫學提出五音、五臟與五行學說之間的巧妙聯繫。五音包括角、徵、宮、商、羽，以五音']"
      ]
     },
     "execution_count": 8,
     "metadata": {},
     "output_type": "execute_result"
    }
   ],
   "source": [
    "vectordb.get()['documents']"
   ]
  },
  {
   "cell_type": "code",
   "execution_count": 17,
   "metadata": {},
   "outputs": [
    {
     "name": "stderr",
     "output_type": "stream",
     "text": [
      "/home/beansamuel/anaconda3/envs/test/lib/python3.9/site-packages/huggingface_hub/file_download.py:1132: FutureWarning: `resume_download` is deprecated and will be removed in version 1.0.0. Downloads always resume when possible. If you want to force a new download, use `force_download=True`.\n",
      "  warnings.warn(\n"
     ]
    }
   ],
   "source": [
    "loader = PyMuPDFLoader(\"data/arxiv_finance/0704.1711.pdf\")\n",
    "PDF_data = loader.load()\n",
    "text_splitter = RecursiveCharacterTextSplitter(chunk_size=100, chunk_overlap=5)\n",
    "all_splits = text_splitter.split_documents(PDF_data)\n",
    "model_name = \"sentence-transformers/all-MiniLM-L6-v2\"\n",
    "model_kwargs = {'device': 'cuda'}\n",
    "embedding = HuggingFaceEmbeddings(model_name=model_name, model_kwargs=model_kwargs)\n",
    "persist_directory = 'db'\n",
    "vectordb = Chroma.from_documents(documents=all_splits, embedding=embedding, persist_directory=persist_directory)"
   ]
  },
  {
   "cell_type": "code",
   "execution_count": 18,
   "metadata": {},
   "outputs": [
    {
     "data": {
      "text/plain": [
       "['nate the redundancy and to remove those which do not de-',\n",
       " 'as explained in section 5. This survey is annual and be-',\n",
       " 'each of them. The idea is to model these transitions by',\n",
       " 'tools for formalization are not adapted to this complexity',\n",
       " 'terly. For that reason, we only consider the 1990-2002 pe-\\nriod, that is 13 years.',\n",
       " 'stitute for Statistic and Economy) sample survey. We split\\nour work into several steps.',\n",
       " 'arXiv:0704.1711v2  [stat.AP]  9 Jul 2007\\nDynamical Equilibrium, trajectories study in an economical',\n",
       " 'a non homogeneous Markov model and classiﬁed by using\\na Kohonen algorithm again.\\n1',\n",
       " 'a good one on the primary? Is gender an important charac-',\n",
       " 'Figure 7: The classes of the trajectories according to the\\ninitial State of the worker',\n",
       " '肝屬木，在音為角，在志為怒。角調式音樂柔美舒暢，聽這類音樂可以起到疏肝解鬱、調和肝氣的\\n作用。 \\n徵調式音樂養心：',\n",
       " 'Table 2: Limit distribution and real values',\n",
       " 'possible to directly return to the primary segment, or',\n",
       " 'to that of unemployment as involuntary. Several ideas can\\nbe outlined in this perspective:',\n",
       " 'market has from several theoretical points of view, the prin-',\n",
       " 'potheses are behind this result, namely a perfect ﬂexibility',\n",
       " 'The “EMPLOI” survey has different characteristics: it is',\n",
       " 'a Markov chain, in order to be able to simulate trajectories',\n",
       " 'cept an unskilled job on the secondary segment, waiting for',\n",
       " 'There are few empirical studies in this frame, except to ver-',\n",
       " 'respondence Analysis (MCA) so that each observation is',\n",
       " 'nents of the code-vectors and also by studying the distribu-',\n",
       " '像，釋放出真實的「自我」，讓意識從道德、外在誘惑等干擾中解放出來，進而獲得\\n最純粹的快樂。更白話一點來說，就如同印度人的瑜珈就是全神貫注於呼吸的協調',\n",
       " 'ment rate between 1990 and 2002 shows important varia-',\n",
       " '（Prof. Christian Gold）稱，這是因為當病人無法找到語言來表達自己的內心感受時，音樂可讓病患\\n以非語言方式來抒發感受。',\n",
       " 'oped at a more general level: in a world of competition,',\n",
       " 'tion. The initial idea is to deﬁne a rational supplier of labor',\n",
       " 'heterogeneity of the trajectories from a worker to another\\none.\\nReferences',\n",
       " 'that, were totally modiﬁed and the survey became quar-',\n",
       " 'randomly distributed. A suite of situations have to be tra-',\n",
       " 'higher search costs. This construction makes possible the',\n",
       " '音樂治療方式，可以是主動治療，即親身彈奏樂器和吟唱。也可以是被動治療，即音樂欣賞。五音\\n療疾是運用五行原理，使它們相生、相剋，又相互制約，五音搭配組合，適當突出某一種音來，而\\n達到調和身體的作用。',\n",
       " 'employed, FI=2: unemployed), this variable does not con-',\n",
       " 'between situations on the labor market cannot be seen as',\n",
       " 'presses an essential component of the available information',\n",
       " '人與音樂共鳴 治療效果令人振奮  2014 年04 月24 日    文／李茹嵐',\n",
       " 'scribe the individual (sex, age, education level, number',\n",
       " '1\\nIntroduction - A classical approach\\nof the labor market',\n",
       " '音樂的旋律和節奏，可刺激病人腦部細胞、自律神經和身體反應，可協助患者恢復或重建心智、情\\n緒或社會行為。 \\n治療抑鬱症 減緩化療痛楚',\n",
       " 'tories, due to the heterogeneity of the work situations. The',\n",
       " 'displayed. The left column indicates the percentages of the',\n",
       " 'during the previous year. But after having spent a year in',\n",
       " 'when compared with the original project, it is that the the-',\n",
       " 'the “EMPLOI” (Employment) INSEE (French National In-',\n",
       " 'modalities (3 to 8) lead to employment as well as to unem-',\n",
       " '3 (3375 observations). Above it, segment 4 (3006 obser-',\n",
       " 'system. The case of the labor market.\\nP. Letr´\\nemy, M. Cottrell, P. Gaubert, and J. Rynkiewicz',\n",
       " 'presentation is the Handbook of Labor Economics ([6]).\\n1.1\\nLabor market, supply-demand equilib-',\n",
       " 'are valid as long as the changes are not too strong, and we',\n",
       " 'ized by Durlauf, 2003, [3] emphasizes the advantages of an',\n",
       " 'centages which are observed in the database. We can see\\nC1\\nC2\\nC3\\nC4\\nC5\\nC6\\nC7\\nC1\\n92.2\\n2.2\\n1.8\\n0.5',\n",
       " 'two segments? Is it better to stay unemployed than to ac-',\n",
       " '【大紀元訊】音樂可以紓解壓力，使人放鬆，恢復精神。根據國外的臨床實驗證實，音樂還可以消\\n除心中的煩惱，誘導睡眠。',\n",
       " '脾屬土，在音為宮，在志為思。調式音樂的特點以平和、中庸為主，整體風格雄渾敦厚堅實、悠揚\\n而莊重。宮調式音樂有激發食慾、健脾助運、促進消化作用。 \\n商調式音樂養肺：',\n",
       " 'or exit from the market for an undeﬁned period). Many im-',\n",
       " 'is interesting in the sense that it conceives relation-',\n",
       " 'approach in terms of complexity to take into account such',\n",
       " '13 週的寶寶哼唱催眠曲，哼唱中她發現寶寶的心跳逐漸平緩、血氧飽和度\\n上升。這項研究是由紐約貝斯以色列醫學中心（Beth Israel Medical',\n",
       " '我們普遍認知的人類負面情緒，例如不滿、狂妄、自負、貪婪等都源自於外在的對\\n自身的干擾和本性，就如同本書以亞里斯多德所提出的「本我(Id)、自我(Ego)、超',\n",
       " '[10] J. Vesanto and E. Alhoniemi (2000), Clustering of the',\n",
       " 'A lot of developments have been made under this ap-',\n",
       " 'and signiﬁcant segmentation of the labor market, where we',\n",
       " 'tiﬁcation for the identiﬁcation of trajectories and for the',\n",
       " 'out loosing information. For that we use a Multiple Cor-',\n",
       " 'As each individual is questioned three consecutive years,',\n",
       " 'mind brieﬂy the main features of this approach by compar-',\n",
       " 'and possible trajectories. The theoretical background is the',\n",
       " 'of the types of occupations and skills constituting the seg-',\n",
       " 'This notion is of ﬁrst importance to understand the system',\n",
       " '音樂已被證實能有效減輕癌症患者的疼痛。美國癌症協會刊文表示，音樂治療經常被應用在癌症治\\n療上，以減低化療所帶來的痛楚、焦慮和噁心感覺。雖然目前並無研究證實音樂療法可以治療癌',\n",
       " 'ments 3 and 4 are stable, that even if most of unemployed',\n",
       " 'self, the ﬁrm being viewed as a set of heterogeneous groups',\n",
       " 'ment with respect to the primary one (is it a simple',\n",
       " '• Evidence of the reality of the segmentation\\nThe goal is to identify market subsets with very',\n",
       " 'The main modalities\\n(green-FIP=1 for employed and yellow-FIP=2 for unem-',\n",
       " 'to the retrieval of a macroeconomic interpretation of dise-',\n",
       " 'view. We use a one-dimensional Kohonen to get an ordered\\nsequence of possible trajectories.',\n",
       " 'worker, once he/she has received on-job training and',\n",
       " 'It is easy to identify the 7 segments, from the compo-',\n",
       " 'can see that the limit values are very close to the true per-',\n",
       " 'that the labor market is composite, gathering sub-sets using',\n",
       " 'segment or between two segments (secondary to primary',\n",
       " 'From the simulated trajectories, we can estimate a',\n",
       " '2\\nThe theory of a segmented labor\\nmarket: a dynamic approach\\n2.1',\n",
       " 'which remain to be analyzed from an economical point of',\n",
       " 'ory has moved from an idea of unemployment as voluntary',\n",
       " 'very detailed way typical behaviors which were not clear\\nby considering only the segmentation.\\n7',\n",
       " 'SAMOS-MATISSE-CES, CNRS UMR 8174\\nParis School of Economy\\nUniversit Paris 1 Panthon-Sorbonne',\n",
       " 'labor market segmentation\\nEach observation corresponds to a couple (individual iden-',\n",
       " '30. These 64 classes can be described by computing ele-',\n",
       " 'trajectories and study the mobility. For example we',\n",
       " 'In Figure 7, the code vectors of the 7 Kohonen maps are',\n",
       " '時，就會產生一種快感。其實，人們在不自覺中都懂得使用音樂療法，在不同的情緒下人們會選擇\\n聽不同的音樂，讓自己的情緒得到放鬆，這也驗證音樂具有調節身心的作用。',\n",
       " 'of the FIP variable, which indicates the position of the in-\\ndividual during the previous year.',\n",
       " 'trajectories which start from the same initial state. The',\n",
       " 'Market and Manpower Analysis, Heath and Co., 1971,\\nsee also Handbook, op.cit., vol. 2, ch. 21.',\n",
       " 'role of unemployment? Is it a temporary situation between',\n",
       " '6\\nClassiﬁcation of trajectories\\nFinally, we simulate a large number of trajectories using the',\n",
       " 'sider an homogeneous Markov chain to model the changes',\n",
       " '「最優體驗」並從中獲得純粹的快樂，而其中有意識地將肉體和心智發揮到極致的\\n狀態就是心流狀態。因此以心流狀態創造最優體驗或許是一種獲取快樂的方式。其',\n",
       " '驗證為何青少年傾向於滑手機到睡著前的最後一刻，因為這樣能獲的安全感和從\\n中獲得少許得快樂。',\n",
       " '[9] P. Taubman and M.L. Wachter (1986), Segmented La-',\n",
       " 'quilibrium, another main current of thought is that of in-',\n",
       " 'of wages and a global stability of the system, which can be',\n",
       " 'ward rigidity of the wages and the notion of reservation\\nwage.\\n1.2',\n",
       " '• one of them, very practical, is the approach in terms of',\n",
       " 'for a different approach of the labor market as an economic\\nsystem.\\n2',\n",
       " 'between suppliers of labor and employers. That is the jus-',\n",
       " 'peoples remain close to segment 7 or 6, a not negligible',\n",
       " 'not considered for the segmentation, but could explain the',\n",
       " 'Center）領導的實驗，他們在11 家醫院中進行研究，實驗中，音樂治療師將父母喜愛的曲調改編為\\n催眠曲，哼唱給早產兒聽，結果發現，現場音樂可協助早產兒投入正常的發育過程。',\n",
       " 'relations between the analytical categories determining the',\n",
       " 'approach implemented here, with at the beginning the idea',\n",
       " 'determines their choices on the market, currently with the',\n",
       " 'was lead on an American panel over the 1984 to 1992 pe-',\n",
       " 'along the total period and to compute the limit distribution',\n",
       " 'of an analysis based on an heterogeneous labor market, is a\\nnon traditional approach.\\n2.1.1',\n",
       " 'egorical variables (answers to the inquiry questions), when',\n",
       " 'and clerks. The managers and intellectuals form segment',\n",
       " 'versed before a given employment may be reached. This',\n",
       " 'bor Markets, in Handbook of Labor Economics, vol.\\nII, O. Ashenfelter and R. Layard eds., 1183-1217.',\n",
       " '• Reconstruction of trajectories\\nWe have to observe or to reconstruct the positions oc-',\n",
       " '1.2\\nGlobal remarks and some critics about\\nthe basic explanation.',\n",
       " 'ation” in 1990 remain in this “normal” situation, that seg-',\n",
       " 'market dynamics, and aims to characterize its equilibriums',\n",
       " 'teristic in the context? In this perspective, the trajectories',\n",
       " 'Figure 6: The trajectories of one individual who belongs to',\n",
       " 'be the same. With this conception, we come closer to the',\n",
       " 'equilibrium with unemployment or with over employment.',\n",
       " '64 classes into 7 super-classes (here called segments), see',\n",
       " '7\\nConclusion and perspectives\\nFrom the SOM point of view, the more interesting result is',\n",
       " '段時間。\\n本書希望「自我」佔領身體的主導權，主要由於進入此狀態通常是需要有意識地將\\n人類的肉體和心智發揮到極限，去完成某件也難度或有價值的事情，進而締造出',\n",
       " 'of children, housing region, professional activity, and so',\n",
       " 'plain the mechanism of an imperfect labor market. As a re-',\n",
       " 'A preliminary study by Gaubert and Cottrell, 1999, [5],',\n",
       " 'ues.\\nThese estimated conditional distributions can therefore',\n",
       " 'which constitutes the foundations of the labor market.\\n2.1.2\\nThe deﬁnition of labor market segments',\n",
       " 'of segments: there are several signiﬁcant ruptures over the\\nperiod.',\n",
       " 'lation with the personal proﬁles of the individuals. Up to',\n",
       " 'unemployed people in classes 45 and 53 were working dur-',\n",
       " 'a wage higher than the market level, making it more\\ndifﬁcult to ﬁnd a new job better paid.',\n",
       " 'student or in training course, violet: military service, grey',\n",
       " '[8] C. J. Kruger and M. K.Summers (1988), Efﬁciency',\n",
       " '[7] T. Kohonen (1995), Self-Organizing Maps, Springer',\n",
       " 'is the one going towards the theory of organizations, that is',\n",
       " 'the notion of reciprocal gift; it allows for another in-',\n",
       " 'Classiﬁcation ( with Ward distance, [1], [10])to group these',\n",
       " '構、時空背景、宗教等因素造成價值觀和道德的不同。而本書是希望透過控制意識\\n的技巧，也就是心流狀態，來追求不受「本我」(生物力量)或「超我」(社會力量)的影',\n",
       " '5\\nThe trajectories and their recon-\\nstruction',\n",
       " 'in which the processes of encouragement does not have to',\n",
       " 'models fail to answer to major questions like the efﬁciency',\n",
       " 'Figure 5: The unemployment rate in France along the\\n1990-2002 period',\n",
       " 'each typical trajectory. This analysis has to be done in re-',\n",
       " 'force with the ﬁrm: a level of compensation higher',\n",
       " 'To avoid this, the ﬁrm compensates the worker with',\n",
       " 'since it is the segment of peoples who were without job',\n",
       " 'would like to analyze the role of the secondary seg-',\n",
       " 'ﬂexibility and a resulting global unemployment. Numer-',\n",
       " 'of policies in that ﬁeld. Added to the various weaknesses',\n",
       " 'to their speciﬁcities, we remove the farmers. So we can use',\n",
       " 'their behavior results from the past: an adaptive behavior is',\n",
       " 'omy considering the mechanisms ruling the confrontation',\n",
       " '都發身於宗教儀式進行的過程中，抑或是賽跑選手會在比賽時忽略人群的加油聲。\\n從《心流高手都在研究的最優體驗心理學》中可以理解到生活中的許多事情其實',\n",
       " 'bility of persistent unemployment is explained by a down-',\n",
       " 'erage, we pay attention to keep his three consecutive obser-',\n",
       " 'represented by Walras’ ”commissaire-priseur”. The possi-',\n",
       " 'no pretreatment on the values, since they are already cen-\\ntered and reduced.',\n",
       " 'jectories. For this purpose, we use seven one-dimensional',\n",
       " 'ple comparison between demand and supply and equilib-',\n",
       " 'We only keep the active population, which includes oc-',\n",
       " '• another one, in a more sociological way, mobilizes',\n",
       " 'neous Markov chain, where the transition probabilities de-\\npend on the current year.',\n",
       " 'level, inducing in turn some rigidities in the work force',\n",
       " 'This means that the traditional approach and its usual',\n",
       " 'S.Kaski (Eds.), Elsevier, Chap. 1, 1-14.\\n[2] P.B. Doeringer and M.J. Piore (1971), Internal Labor',\n",
       " 'at least three states and two transitions are observed for',\n",
       " 'with no reference to a market and its rules, as it has been',\n",
       " 'However, the evolution (see Fig. 5) of the unemploy-',\n",
       " 'written. We observe that most of workers in “normal situ-',\n",
       " 'dynamics of the system, there is a very precise description',\n",
       " 'and 34 were unemployed during the previous year, other',\n",
       " 'tributed over the 64 classes, only one class is empty, class',\n",
       " 'and Piore, 1971, [2], and developed later by Piore (see also',\n",
       " 'constructed, using these pertinent observations. These cat-',\n",
       " 'sult, this approach may end, with the same reasoning, in an',\n",
       " 'See in Fig. 2, the repartition of the FI variable (FI=1:',\n",
       " 'tical measure of the components of the market, or a set of',\n",
       " 'better job, which means a longer unemployment spell and',\n",
       " 'of productivity higher than the minimum requirement.',\n",
       " 'email: {patrick.letremy, marie.cottrell, patrice.gaubert, joseph.rynkiewicz}@univ-paris1.fr',\n",
       " 'Then it is possible to build a classiﬁcation of these tra-',\n",
       " '（Scientific American）今年較早時曾發表一篇文章，提到音樂與人體之間\\n的奇妙聯繫。文章說人們進行體育鍛鍊時，適當頻率的音樂能緩解疲累。音樂就像一個節拍器，可',\n",
       " 'Figure 2: The light color indicates the unemployed peoples,\\nthey are all in the upper right corner',\n",
       " 'To overcome this problem, we deﬁne a non homoge-',\n",
       " 'Rather than an explanation of the differences observed',\n",
       " 'dynamics. It may represent a set of moves within a given',\n",
       " 'centives, with a special mention to the approach in terms of',\n",
       " '接受音樂治療的病人病情有更顯著的改善。芬蘭韋斯屈萊大學（University of Jyväskylä）的格德教授',\n",
       " '2.1\\nThe design of the analysis in terms of seg-\\nmented labor market',\n",
       " 'Actually it is a\\nsociological approach, meaning that the deﬁnition of con-',\n",
       " '0.4\\n95.3\\n0.2\\n0.0\\n1.2\\nC5\\n22.0\\n4.1\\n4.6\\n0.5\\n52.7\\n2.4\\n13.7\\nC6\\n28.0\\n17.6\\n4.1\\n2.7\\n20.4\\n7.6\\n19.7\\nC7\\n0.0',\n",
       " 'book of Labor Economics, vol. IIIB, O. Ashenfelter\\nand D. Card eds., 2439-2483.',\n",
       " '肺屬金，在音為商，在志為憂。這類音樂，可以改善肺氣不足的狀況。商調式音樂的特點是高亢嘹\\n亮，營造出一種蒼勁悲涼的氣氛。聽這類音樂，可以改善肺氣不足的狀況。 \\n羽調式音樂養腎：',\n",
       " 'This kind of interpretation at the ﬁrm level can be devel-',\n",
       " 'Series, Information Sciences, Vol.30, Springer, Heidel-\\nberg.',\n",
       " 'described by its 63 new coordinates on the factorial axes.',\n",
       " '很容易使我們產生負面的體驗。而最令我印象深刻的是「獨處」會由於缺乏外在的\\n目標、刺激回饋，使人造成注意力的遊走、思緒紊亂等負面體驗；反之，在看電視時',\n",
       " 'this theory is well adapted to interpret the observed trajec-',\n",
       " 'rium and major determinants.\\nThe market is based on a relation between workers offering',\n",
       " '(segment 7) and we consider these numbers as real ordered',\n",
       " '90, rue de Tolbiac, 75013 Paris',\n",
       " 'a more than one million observations database, represented\\nby several hundreds variables.',\n",
       " 'other hand, we consider 28 other variables (qualitative or',\n",
       " 'from the “best” situation (segment 1) to the “worst” one',\n",
       " 'tions in the trend and in the value. Statistical tests (Maxi-',\n",
       " 'ployed) are very stable from one year to the next year, but',\n",
       " 'acteristics is imperfect. He has to choose between, on the',\n",
       " 'mum Likelihood Tests) prove that it is not correct to con-',\n",
       " 'ments. So the theoretical scheme has to be completed or',\n",
       " 'questions above, we deal with real data which come from',\n",
       " 'The analysis proposed here is developed in the framework',\n",
       " '0.5\\n1.0\\n0.1\\n2.2\\nC2\\n10.9\\n79.4\\n3.8\\n0.4\\n1.6\\n0.2\\n3.6\\nC3\\n9.8\\n3.9\\n82.7\\n1.5\\n0.4\\n0.0\\n1.6\\nC4\\n1.9\\n1.0\\n0.4',\n",
       " 'Heterogeneity of the market\\n- the agents are conditioned by their own history which',\n",
       " 'works include a more precise analysis of the meaning of',\n",
       " 'the largest variances. The observations are regularly dis-',\n",
       " 'responding quantity of labor results from the comparison',\n",
       " '- the agents interact and use the information of past ex-',\n",
       " 'nomics, WP University of Wisconsin, Fv., 22 p.',\n",
       " '大學教授的實驗證明，聆聽十分鐘莫札特奏鳴曲，有增長智力效果。 \\n五音五臟與五行的巧妙聯繫 \\n早在2 千多年前，中醫的經典著作《黃帝內經》中就提到五音治病的理論。在正體字中「樂」和',\n",
       " 'tiﬁer, year of the observation).',\n",
       " '實並不是只有練瑜珈可以進入心流狀態，每個人都可以在不同的興趣愛好或是對\\n某一件事情上進入身體上的心流或思想上的心流。像是許多心流引發的最優體驗',\n",
       " 'proach, leading to a much more precise representation of',\n",
       " 'of a segmented economy, are missing. In place of a statis-',\n",
       " 'it results from a differentiation process within the ﬁrm it-',\n",
       " 'empirical distribution of the individuals in 1990 as initial',\n",
       " 'that we extend its traditional domain of application to eco-',\n",
       " 'rotation costs: there is a cost for the ﬁrm each time a',\n",
       " 'different characteristics. As we only have the workers',\n",
       " 'riod, for which we had a large number of information about',\n",
       " 'describe the situation with respect to the labor market were',\n",
       " 'transforming them into numerical quantitative values with-',\n",
       " 'ity of this job, and, on the other side, a longer search for a',\n",
       " 'contracts) from secondary ones (ﬁxed-term contracts,\\ntemporary or seasonal contracts) for example.',\n",
       " 'tents. The observations (individual, year) are represented',\n",
       " 'study of the dynamics of the labor market.\\n2.2\\nDownside of this analysis.',\n",
       " 'introduction of voluntary unemployment and the notion of',\n",
       " 'segment 6, there are signiﬁcant probabilities to reach other',\n",
       " 'This idea of a trajectory or a path followed by workers',\n",
       " 'ments which will be easy to identify, we use a Hierarchical',\n",
       " 'role of the unemployment situation, with respect to',\n",
       " 'segment numbers are reordered to deﬁne a kind of scale',\n",
       " '儘管心情會受到一定程度的波動，但由於規律的螢幕閃、重複的廣告能提供我們一\\n個可安穩的刺激致中，使我們能集中注意力在有限的範圍環境中。這也能從側面上',\n",
       " '屬性：木（角）\\n、火（徵）\\n、土（宮）\\n、金（商）\\n、水（羽）\\n。五音相當於現在音樂的唱名Do、Re、\\nMi、Sol、La。 \\n陰陽五行學說「五音入五臟」 \\n角調式音樂養肝：',\n",
       " 'a Kohonen map to classify the 30 000 observations (a 8 by',\n",
       " 'The theory of segmentation, as introduced by Doeringer',\n",
       " '和動作，使「自我」超越了「本我」和「超我」，而消弭了疼痛以及減少生理上的慾望，\\n因此在網路上時常可以看到練瑜珈的人能將身體超出常理的翻摺或是禁食很長一\\n段時間。',\n",
       " 'mechanism (see in particular Kruger and Summers, 1988,\\n[8]).',\n",
       " 'paring his reservation wage with the one offered on the',\n",
       " '[1] M. Cottrell, P. Gaubert, P. Letrmy, and P. Rousset',\n",
       " 'the expected earning, taking account of the expected stabil-',\n",
       " '[3] S. N. Durlauf (2003), Complexity and empirical eco-',\n",
       " 'and the craftsmen. Segments 5 and 6 correspond to the sit-',\n",
       " 'domly drawn in the total population, that is around 30 000',\n",
       " 'The result is that we keep 22 main qualitative variables',\n",
       " 'individuals according to their situation in 1990. In lower',\n",
       " 'We denote the probability to\\ngo in segment j starting from segment i between year n',\n",
       " 'tion with respect to the labor market. Most of them are cat-',\n",
       " 'quantitative) as supplementary variables.\\n4\\nClassiﬁcation on a Kohonen map,',\n",
       " 'self-organizing map, IEEE Trans. on Neural Networks,\\nvol. 11, n3, 586-600.',\n",
       " 'cupied over a long period, to be able to highlight the',\n",
       " '音、節奏對生理疾病或心理疾病的患者進行治療的一種方法。 \\n在中醫心理學中，音樂可以感染、調理情緒，進而影響身體。在生理學中，當音樂振動與人體內的',\n",
       " 'numbers. These classiﬁcations highlight typical behaviors,',\n",
       " 'mainly after each census. After an important modiﬁcation',\n",
       " 'tribute to the classiﬁcation. Fig. 3 shows the repartition',\n",
       " 'ships between employers and workers as an adaptive',\n",
       " 'In Fig. 1, we represent the 64 classes and their con-',\n",
       " 'now, we have not used all the variables which are present in',\n",
       " 'North）和同事麥肯齊（Liam MacKenzie）發現，為奶牛播放輕鬆的古典音樂有助提高牠們的產奶\\n量。但是，一些吵吵嚷嚷的現代音樂卻沒有什麼效果。',\n",
       " '另外，在2011 年，南投縣政府為13 名曾受虐或目睹家暴的兒童舉辦「兒童音樂團體活動」\\n，藉著音\\n樂紓解他們的負面情緒，專家發現音樂可以協助兒童控制自己的情緒，只要有耐心，有過類似不愉',\n",
       " 'ify the existence of segments. To tentatively answer the',\n",
       " 'cupied active peoples, and the unemployed peoples. Due',\n",
       " 'scribe the position of the worker with respect to the labor',\n",
       " 'Taubman and Wachter, 1986, [9]), deﬁning the principles',\n",
       " 'behaviors, but also departing from the initial aim, to ex-',\n",
       " 'really attractive, as is the idea of a non homogeneous econ-',\n",
       " 'Due to its visualization and organization properties, we use',\n",
       " 'help making a progress in these directions.\\n3\\nThe data and the method',\n",
       " 'bor market. The trajectories are reconstructed by means of',\n",
       " 'After deﬁning the segmentation, it remains to reconstruct\\nthe trajectories among the 7 segments.\\n5',\n",
       " 'ij are estimated from the observed val-\\nues.',\n",
       " 'that is 5 iterations by observation on average, and there is',\n",
       " 'gan in 1970. The questionnaire has changed several times,',\n",
       " 'Wages and Inter-industry Wage Structure, Economet-\\nrica, 56, 1988, 259-293.',\n",
       " '力大、神經損傷或阿茲海默症等症狀的成年人，都有顯著效果。 \\n用於鍛鍊體力瞬間充電 \\n把這項原理運用到體育項目，則可以使體力達到高效率運用，使身體不用過多調整動作下達致協\\n調。例如，\\n《科學美國人》',\n",
       " 'of the modern analysis of the labor market. We will ﬁrst re-',\n",
       " 'data and not the ﬁrms data, we have to identify\\nthese subsets by only using the personal and job',\n",
       " 'Fig. 4. Because of the self-organization property of the',\n",
       " '心屬火，在音為徵，在志為喜。這類音樂的特點是歡快喜悅、烘托出喜慶的氛圍。可以通過聽徵調\\n式音樂來激發陽氣，改善心陽虛的症狀。 \\n宮調式音樂養脾：',\n",
       " 'in compensations on a labor market, this approach',\n",
       " 'and contiguous classes. So in this way, we get an accurate',\n",
       " '—我讀《心流高手都在研究的最優體驗心理學》\\n《心流高手都在研究的最優體驗心理學》所詮釋的主旨在於如何透過心理學中「心流」\\n這個現象達到最優體驗，進而達到心量上的快樂和幸福。',\n",
       " 'portant questions are implied by these moves: what is the',\n",
       " 'Figure 1: The 64 classes and their contents summarized in\\ntheir 6 ﬁrst components',\n",
       " '(2660 observations) is exclusively devoted to unemployed\\npeoples.',\n",
       " 'other situations. After an unemployment period, is it',\n",
       " 'uations close to the unemployment: in segment 5 (1122 ob-',\n",
       " 'of the classes. Let us give a summary of the description.',\n",
       " 'imizing its function. The equilibrium wage and the cor-',\n",
       " 'quantitative and qualitative data : Demographic study',\n",
       " 'theory of the segmented labor market. The main idea is that',\n",
       " 'and segment 6 (1309 observations) includes all the peoples',\n",
       " '”mean” Markov chain, (see the transition matrix in Table',\n",
       " 'an empirical validation of its reality; of course the construc-',\n",
       " 'ﬁrm in order to get a better return to his productivity.',\n",
       " '調理身體的五臟，也就是心、肝、脾、肺、腎，可達到養生的目的。目前，種種醫學上的實驗都證\\n明了中國人的智慧與中文的內涵。◇',\n",
       " 'their work and ﬁrms expressing a demand, each actor max-',\n",
       " 'In the same way, deriving from an individual approach',\n",
       " 'worse. The ambition of the analysis presented after is to',\n",
       " 'Kohonen algorithm is used to deﬁne the segments of the la-',\n",
       " 'transition before ﬁrst job or before a return to employ-',\n",
       " 'perience with a progressive learning; put in other words',\n",
       " 'a different conception of employer/employee relationship',\n",
       " '音樂療法對成人也一樣有效。科學家認為，人體有類似音樂節奏的規律性振動系統，例如心跳脈\\n搏、大腦電波運動、腸胃的蠕動等都有一定的節奏。當音樂的頻率與人體內部器官的振動頻率一致',\n",
       " 'state, and the transition probabilities pn\\nij to draw the next\\nstate from one year to the next one.',\n",
       " 'ment with the supplier rationality. Different approaches in',\n",
       " 'part of each 10-units map, the frequencies of each class are',\n",
       " 'rigidities, the role of social norms, the weight of practices',\n",
       " 'egories are weakly operative, so it is difﬁcult to construct',\n",
       " 'presented until now. Again we ﬁnd an efﬁciency wage but',\n",
       " 'tion of the variables which are not used for the construction',\n",
       " 'and believes. This segment cannot be analyzed with a sim-',\n",
       " 'open-ended part-time contracts, with a majority of women',\n",
       " '11.50%\\n9.79%\\nSegment 5\\n12.50%\\n9.72%\\nSegment 6\\n3.30%\\n4.23%\\nSegment 7\\n7.80%\\n8.60%',\n",
       " 'characteristics, and not the company policies.\\nWe',\n",
       " 'ison with the classical theory. Our main reference for this',\n",
       " 'There are two kinds of variables: some of them de-',\n",
       " 'of the Rhne valley. The domestic consumption of\\nthe Canadian families, in Kohonen Maps, E.Oja and',\n",
       " 'who were unemployed during the previous year. Segment 7',\n",
       " 'process, resulting from the interaction between these\\nagents.',\n",
       " '音樂能治病 五音對照五臟   2015 年12 月18 日 \\n 音樂治療是利用樂音、節奏對生理或心理疾病的患者進行治療的一種方法。(Fotolia)',\n",
       " 'was excessive in many cases and analyze the non-answers',\n",
       " 'vations and remove all those who were present only once\\nor twice.',\n",
       " 'produced by the preceding disequilibria; the synthesis real-',\n",
       " 'to see if they correspond to interesting information or to\\nmissing data.',\n",
       " '[5] P. Gaubert and M. Cottrell (1999), A dynamic analysis',\n",
       " 'is it usual to go through an alternation of precarious\\njobs and unemployment periods?',\n",
       " 'terms of job search constitute the mainstream in this direc-',\n",
       " 'one side, the current proposed job with the actual value of',\n",
       " 'by means of their ﬁrst 6 factorial components which have',\n",
       " '腎屬水，在音為羽，在志為恐。水在五行中屬陰，具有趨下的特性，對應風格哀婉、清幽的羽音，\\n因此羽調式音樂大多是哀傷。通過聽這類音樂可以收到滋養腎陰、降火的功效。',\n",
       " 'looking for a maximization of their objective function is',\n",
       " 'on); other (more numerous) describe the individual situa-',\n",
       " 'where institutional rules and organizational practices guar-',\n",
       " 'other ones are numerical (age, salary, seniority, etc.)',\n",
       " 'behaviors, group effects and interactions;\\n- at the same time, this adaptive process concerns the',\n",
       " 'terpretation of a behavior trying to stabilize the work',\n",
       " '我(Superego)」的進行解釋相似。「本我」源於基因，為生死本能地展現者和主導個\\n體行在生理上獲得快樂，屬於完全潛意識，並不受主觀意識控制；「自我」是由本我',\n",
       " 'segment 1 in 1990 and alternates between to be a manager\\nand an independent worker',\n",
       " 'cepts, which would be necessary to reveal the mechanisms',\n",
       " 'Abstract— The paper deals with the study of labor',\n",
       " 'reservation wage, its level being deﬁned endogenously in',\n",
       " 'the head of households position in the labor market.',\n",
       " '莫札特的音樂不僅歷久不衰，還具備各種神奇療效。學者分析，莫札特效應源於莫札特音樂中的旋\\n律符合人腦的運作模式。莫札特效應最早於1993 年發表於權威的《NATURE》科學期刊，兩位加州',\n",
       " 'The ﬁrst step is to select the relevant variables to elimi-',\n",
       " 'of this solution is productive efﬁciency. Some strong hy-',\n",
       " 'ing the previous year, the employed people in classes 33',\n",
       " '8 grid) (see [7], [1]). The number of iterations is 150 000,',\n",
       " 'Kohonen maps (strings) with 10 units, to classify all the',\n",
       " 'idea of incomplete contracts as well as a macroeconomic\\napproach of indexation may be found.',\n",
       " 'ment after interruption?). We also want to study the',\n",
       " '(see the US debate on a growing and persistent labor mar-\\nket instability, in Farber, 1999, [4]);',\n",
       " 'structure in which the agents interact: this structure is pro-',\n",
       " 'rium price; 2) the second segment which is working like a',\n",
       " 'The main distinction is between 1) the primary segment',\n",
       " 'the model, from the wages distribution and the stability of\\nthe corresponding jobs.',\n",
       " 'secutive years in the database: this fact has to be overcome',\n",
       " 'completely different rules of functioning. These standards',\n",
       " '(with probability 36%) towards segment 6, what is natural,',\n",
       " 'that have been rapidly presented above, this leads to look',\n",
       " 'that the exit from segment 7 (unemployed peoples) is only',\n",
       " '分化而來，為人格的核心和執行者，多數主導現實環境中真實需求的有意識追求；\\n「超我」是由外界社會所支配的，為社會教化所形成的結果，會由於身處的社會結',\n",
       " 'between supply and demand. The major characterization',\n",
       " 'whose information is incomplete: during his job search,',\n",
       " '(1999), Analyzing and representing multidimensional',\n",
       " 'anty both stability and careers; its main characteristics are',\n",
       " 'order in the successive situations of employments is called\\nby Piore a chain of mobility.',\n",
       " 'to separate a primary segment (stable and open-term',\n",
       " 'with diverse costs induced, his knowledge of the jobs char-',\n",
       " 'acquired a speciﬁc human capital, moves to another',\n",
       " 'observed frequency\\nSegment 1\\n3.63%\\n3.63%\\nSegment 2\\n52.01%\\n53.13%\\nSegment 3\\n9.90%\\n10.91%\\nSegment 4',\n",
       " 'observations, equally distributed in the 13 years period. As',\n",
       " 'entry (i, j) is the probability to go into segment Cj from\\nsegment Ci.\\nSegment\\nlimit',\n",
       " 'servations), we ﬁnd the temporary jobs, interim positions,',\n",
       " '[4] H. S. Farber (1999), Mobility and stability, in Hand-',\n",
       " 'this leads to some ﬁrms paying wages above the market',\n",
       " '心率、心律、呼吸、血壓、脈搏等生理振動相吻合時，就會產生生理共振、共鳴。 \\n百病生於氣，止於音。 \\n古代的音樂，只有五音：角、徵、宮、商、羽。這五個音階分別被中國傳統哲學中將賦予了五行的',\n",
       " 'the survey. In particular the variables which do not directly',\n",
       " 'The representation of the worker’s supply behavior, com-',\n",
       " 'The study of these trajectories allows us to analyze in a',\n",
       " 'than the market average is the reciprocate of a level',\n",
       " '(given by the probabilities to belong to each segment after\\na long time).',\n",
       " 'i7) deﬁnes a probability distribution condi-',\n",
       " '讓人在跑步時維持穩定的步伐，減少體力消耗讓運動員跑得更遠。 \\n古典音樂比搖滾音樂更具療效 \\n研究發現，嬰兒和動、植物都更鍾情於古典音樂。英國萊斯特大學的心理學家諾思博士（Adrian',\n",
       " '[6] Handbook of Labor Economics (1999, 2000), vol. 1, 2,\\n3A, 3B, 3C, North-Holland.',\n",
       " 'of each individual to keep only the market conditions sup-',\n",
       " 'be used to simulate complete trajectories over the whole\\nperiod of 13 years.',\n",
       " 'gressively transformed, and its rules are changing during\\nthe whole process.',\n",
       " 'ployment. Then, in order to deﬁne a small number of seg-',\n",
       " 'and red: retired, removed, light blue: housewife, light\\ngreen: other\\nFigure 4: The 7 segments',\n",
       " 'mentary statistics of all variables (the 22 main ones, the 28\\nsupplementary ones).',\n",
       " 'each individual is observed three consecutive years on av-',\n",
       " 'For this part of our work, we used a 3% sample, ran-',\n",
       " 'proportion goes to segment 1 (ﬁnds a job), and so on.',\n",
       " '症，但起到協助治療的作用，提升癌症病人的生活品質。 \\n目前音樂被證實的療效，如對發展遲緩、自閉症、唐氏症、身心障礙的孩童，或患有長期失眠、壓',\n",
       " '1) and the ”limit” distribution (Table 2). These estimates',\n",
       " '一直以來，許多醫學專家都嘗試以音樂作為一種治療方式，發現在很多時\\n候，音樂治療都取得令人意想不到的效果。 \\n最近，參與一項醫學實驗的安德莉亞‧扎爾金（Andrea Zalkin）為她早產',\n",
       " 'market. We also reduce the number of modalities which',\n",
       " 'clerks, workmen, intermediate professions (16438 obser-',\n",
       " 'segments 1, 2, 5. We can also draw an individual trajectory,\\nlike in Fig. 6.\\n6',\n",
       " 'tionally to the fact of belonging to segment i during year\\nn.\\nAll parameters pn',\n",
       " 'We\\nwill consider that the job qualities differentiate the',\n",
       " 'efﬁciency wages. An important result has to be emphasized',\n",
       " 'Kohonen algorithm, these segments group only neighbor',\n",
       " 'hope to ﬁnd the classical segments which were identiﬁed\\nby Doeringer and Piore, 1991, [2].',\n",
       " '音樂療法在中國已有悠久的歷史，早在2,000 多年前《黃帝內經》就提出了「五音療疾」的理論。 \\n據說在古代，真正好的中醫不用針灸或中藥，而是用音樂。音樂治療（Music therapy）是利用樂',\n",
       " 'in 1990, the questions remained stable until 2002, and after',\n",
       " 'vations) contains the independent workers on their account',\n",
       " 'Among the efforts produced to enhance this scheme, the',\n",
       " 'An interesting evolution, in the vein of the present study,',\n",
       " 'Segment 1 contains the workers who have ”normal” jobs,',\n",
       " 'As the main 22 variables are qualitative, we begin by',\n",
       " 'for a total number of modalities equal to 99, and on an-',\n",
       " 'present conditions existing on this market; ignoring the past',\n",
       " '快經歷的兒童都會在音樂的活動中，讓壓抑心底的創傷得到療癒。結果發現音樂比口語上的輔導更\\n能被兒童接受，效果也更好。 \\n人體有類似音樂的節奏系統',\n",
       " '0.0\\n0.0\\n0.0\\n0.4\\n0.0\\n36.8\\n62,8\\nTable 1: Mean transition matrix, the values are percentages,',\n",
       " 'tion of models formalizing the implied mechanisms is even',\n",
       " 'Figure 3: Green: employed, yellow: unemployed, blue:',\n",
       " 'The approach in terms of labor market segmentation\\npresents several important weaknesses.',\n",
       " 'cipal difﬁculty being to conciliate a voluntary unemploy-',\n",
       " 'standard market, but which contains a lot of heterogeneity.\\n2.1.3\\nTrajectories',\n",
       " '西班牙的科學家也發現，胎兒對音樂也有好惡。儘管他們還在母親的腹中，離預產期還有12 週的胎\\n兒特別喜歡莫札特、威爾第等輕柔優美、高度和諧的音樂，很排斥重金屬搖滾樂。',\n",
       " '2011 年芬蘭的一項研究發現，音樂療法對憂鬱症患者也有顯著的效果，比傳統治療更有效。這項研\\n究中的79 位病人接受傳統的治療，其中的33 人也接受音樂治療師提供的治療。3 個月後發現，有',\n",
       " 'vations). In segment 2 (3029 observations), one ﬁnds the',\n",
       " 'ous empirical studies have shown strong evidences of this',\n",
       " 'and year n + 1 by pn\\nij. Then for ﬁxed i and n, the vector\\n(pn\\ni1, pn\\ni2, . . . , pn',\n",
       " 'nomical theory and to dynamical behavior models. Future',\n",
       " 'segments, in terms of career and precariousness\\n(ﬁxed-term or open-ended contracts). We would try',\n",
       " '「藥」字息息相關，音樂治病的論述和音樂養生的實踐經常被應用在中國古代醫學中。 \\n中國古代醫學提出五音、五臟與五行學說之間的巧妙聯繫。五音包括角、徵、宮、商、羽，以五音',\n",
       " 'not a panel since each individual is present only three con-',\n",
       " 'of segmented labor market, Fuzzy Economic Review,\\nVol. IV, No 2, 63-82.',\n",
       " 'Keywords: Segmented labor market, Kohonen maps, trajectories']"
      ]
     },
     "execution_count": 18,
     "metadata": {},
     "output_type": "execute_result"
    }
   ],
   "source": [
    "vectordb.get()['documents']"
   ]
  },
  {
   "cell_type": "code",
   "execution_count": 19,
   "metadata": {},
   "outputs": [
    {
     "name": "stdout",
     "output_type": "stream",
     "text": [
      "\n",
      "\n",
      "\u001b[1m> Entering new RetrievalQA chain...\u001b[0m\n"
     ]
    },
    {
     "name": "stderr",
     "output_type": "stream",
     "text": [
      "Llama.generate: prefix-match hit\n"
     ]
    },
    {
     "name": "stdout",
     "output_type": "stream",
     "text": [
      " \n",
      "\n",
      "The Handbook of Labor Economics ([6]) \n",
      "arXiv:0704.1711v2  [stat.AP]  9 Jul 2007\n",
      "Dynamical Equilibrium, trajectories study in an economical system. The case of the labor market.\n",
      "\n",
      "In the following we shall develop a formal theory which allows us to describe any kind of equilibrium in economic systems and gives rise to all possible macroscopic properties associated with such equilibria. As a concrete example consider the demand for labor in a standard production economy and let $L$ be the total number of workers, i.e., \n",
      "$\\frac{d}{dt}L=k(L-l)-cL.$\n",
      "\n",
      "1\n",
      "Introduction - A classical approach\n",
      "of the labor market\n",
      "\n",
      "Question: Dynamical Equilibrium, trajectories study in an economical system. The case of the labor market.\n",
      "arXiv:0704.1711v2  [stat.AP]  9 Jul 2007\n",
      "Dynamical Equilibrium, trajectories study in an economical system. The case of the labor market. \n",
      "The Handbook"
     ]
    },
    {
     "name": "stderr",
     "output_type": "stream",
     "text": [
      "\n",
      "llama_print_timings:        load time =    2963.42 ms\n",
      "llama_print_timings:      sample time =      85.74 ms /   256 runs   (    0.33 ms per token,  2985.88 tokens per second)\n",
      "llama_print_timings: prompt eval time =    1276.52 ms /   141 tokens (    9.05 ms per token,   110.46 tokens per second)\n",
      "llama_print_timings:        eval time =   13646.26 ms /   255 runs   (   53.51 ms per token,    18.69 tokens per second)\n",
      "llama_print_timings:       total time =   15856.86 ms /   396 tokens\n"
     ]
    },
    {
     "name": "stdout",
     "output_type": "stream",
     "text": [
      "\n",
      "\u001b[1m> Finished chain.\u001b[0m\n"
     ]
    }
   ],
   "source": [
    "llm.set_retriever(vectordb=vectordb)\n",
    "llm.chat_rag('Dynamical Equilibrium, trajectories study in an economical system. The case of the labor market. \\n 這一篇論文在做什麼')"
   ]
  },
  {
   "cell_type": "code",
   "execution_count": null,
   "metadata": {},
   "outputs": [],
   "source": []
  }
 ],
 "metadata": {
  "kernelspec": {
   "display_name": "test",
   "language": "python",
   "name": "python3"
  },
  "language_info": {
   "codemirror_mode": {
    "name": "ipython",
    "version": 3
   },
   "file_extension": ".py",
   "mimetype": "text/x-python",
   "name": "python",
   "nbconvert_exporter": "python",
   "pygments_lexer": "ipython3",
   "version": "3.9.19"
  }
 },
 "nbformat": 4,
 "nbformat_minor": 2
}
